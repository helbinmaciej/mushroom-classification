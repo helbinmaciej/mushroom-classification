{
 "cells": [
  {
   "cell_type": "markdown",
   "id": "vital-weekly",
   "metadata": {},
   "source": [
    "# PROJEKT MACHINE LEARNING\n",
    "## PROPOZYCJA ROZWIĄZANIA\n",
    "## https://www.kaggle.com/uciml/mushroom-classification"
   ]
  },
  {
   "cell_type": "markdown",
   "id": "lucky-ribbon",
   "metadata": {},
   "source": [
    "### import paczek"
   ]
  },
  {
   "cell_type": "code",
   "execution_count": 75,
   "id": "sacred-honolulu",
   "metadata": {},
   "outputs": [],
   "source": [
    "import pandas as pd\n",
    "import numpy as np\n",
    "import matplotlib.pyplot as plt\n",
    "import seaborn as sns\n",
    "from sklearn.preprocessing import LabelEncoder\n",
    "from sklearn.linear_model import LogisticRegression\n",
    "from sklearn.tree import DecisionTreeClassifier\n",
    "from sklearn.ensemble import RandomForestClassifier\n",
    "from sklearn.naive_bayes import GaussianNB\n",
    "from sklearn.neighbors import KNeighborsClassifier\n",
    "from xgboost import XGBClassifier\n",
    "from sklearn.svm import SVC\n",
    "from sklearn.model_selection import train_test_split\n",
    "from sklearn.metrics import classification_report, confusion_matrix, accuracy_score\n",
    "from sklearn.tree import plot_tree\n",
    "from sklearn.preprocessing import MinMaxScaler\n",
    "from sklearn.model_selection import GridSearchCV\n",
    "from mlxtend.plotting import plot_confusion_matrix"
   ]
  },
  {
   "cell_type": "markdown",
   "id": "facial-presence",
   "metadata": {},
   "source": [
    "### pobranie danych"
   ]
  },
  {
   "cell_type": "code",
   "execution_count": 2,
   "id": "ready-standing",
   "metadata": {},
   "outputs": [],
   "source": [
    "data = pd.read_csv('mushrooms.csv')"
   ]
  },
  {
   "cell_type": "code",
   "execution_count": 3,
   "id": "dominican-watts",
   "metadata": {
    "scrolled": true
   },
   "outputs": [
    {
     "data": {
      "text/html": [
       "<div>\n",
       "<style scoped>\n",
       "    .dataframe tbody tr th:only-of-type {\n",
       "        vertical-align: middle;\n",
       "    }\n",
       "\n",
       "    .dataframe tbody tr th {\n",
       "        vertical-align: top;\n",
       "    }\n",
       "\n",
       "    .dataframe thead th {\n",
       "        text-align: right;\n",
       "    }\n",
       "</style>\n",
       "<table border=\"1\" class=\"dataframe\">\n",
       "  <thead>\n",
       "    <tr style=\"text-align: right;\">\n",
       "      <th></th>\n",
       "      <th>class</th>\n",
       "      <th>cap-shape</th>\n",
       "      <th>cap-surface</th>\n",
       "      <th>cap-color</th>\n",
       "      <th>bruises</th>\n",
       "      <th>odor</th>\n",
       "      <th>gill-attachment</th>\n",
       "      <th>gill-spacing</th>\n",
       "      <th>gill-size</th>\n",
       "      <th>gill-color</th>\n",
       "      <th>...</th>\n",
       "      <th>stalk-surface-below-ring</th>\n",
       "      <th>stalk-color-above-ring</th>\n",
       "      <th>stalk-color-below-ring</th>\n",
       "      <th>veil-type</th>\n",
       "      <th>veil-color</th>\n",
       "      <th>ring-number</th>\n",
       "      <th>ring-type</th>\n",
       "      <th>spore-print-color</th>\n",
       "      <th>population</th>\n",
       "      <th>habitat</th>\n",
       "    </tr>\n",
       "  </thead>\n",
       "  <tbody>\n",
       "    <tr>\n",
       "      <th>0</th>\n",
       "      <td>p</td>\n",
       "      <td>x</td>\n",
       "      <td>s</td>\n",
       "      <td>n</td>\n",
       "      <td>t</td>\n",
       "      <td>p</td>\n",
       "      <td>f</td>\n",
       "      <td>c</td>\n",
       "      <td>n</td>\n",
       "      <td>k</td>\n",
       "      <td>...</td>\n",
       "      <td>s</td>\n",
       "      <td>w</td>\n",
       "      <td>w</td>\n",
       "      <td>p</td>\n",
       "      <td>w</td>\n",
       "      <td>o</td>\n",
       "      <td>p</td>\n",
       "      <td>k</td>\n",
       "      <td>s</td>\n",
       "      <td>u</td>\n",
       "    </tr>\n",
       "    <tr>\n",
       "      <th>1</th>\n",
       "      <td>e</td>\n",
       "      <td>x</td>\n",
       "      <td>s</td>\n",
       "      <td>y</td>\n",
       "      <td>t</td>\n",
       "      <td>a</td>\n",
       "      <td>f</td>\n",
       "      <td>c</td>\n",
       "      <td>b</td>\n",
       "      <td>k</td>\n",
       "      <td>...</td>\n",
       "      <td>s</td>\n",
       "      <td>w</td>\n",
       "      <td>w</td>\n",
       "      <td>p</td>\n",
       "      <td>w</td>\n",
       "      <td>o</td>\n",
       "      <td>p</td>\n",
       "      <td>n</td>\n",
       "      <td>n</td>\n",
       "      <td>g</td>\n",
       "    </tr>\n",
       "    <tr>\n",
       "      <th>2</th>\n",
       "      <td>e</td>\n",
       "      <td>b</td>\n",
       "      <td>s</td>\n",
       "      <td>w</td>\n",
       "      <td>t</td>\n",
       "      <td>l</td>\n",
       "      <td>f</td>\n",
       "      <td>c</td>\n",
       "      <td>b</td>\n",
       "      <td>n</td>\n",
       "      <td>...</td>\n",
       "      <td>s</td>\n",
       "      <td>w</td>\n",
       "      <td>w</td>\n",
       "      <td>p</td>\n",
       "      <td>w</td>\n",
       "      <td>o</td>\n",
       "      <td>p</td>\n",
       "      <td>n</td>\n",
       "      <td>n</td>\n",
       "      <td>m</td>\n",
       "    </tr>\n",
       "    <tr>\n",
       "      <th>3</th>\n",
       "      <td>p</td>\n",
       "      <td>x</td>\n",
       "      <td>y</td>\n",
       "      <td>w</td>\n",
       "      <td>t</td>\n",
       "      <td>p</td>\n",
       "      <td>f</td>\n",
       "      <td>c</td>\n",
       "      <td>n</td>\n",
       "      <td>n</td>\n",
       "      <td>...</td>\n",
       "      <td>s</td>\n",
       "      <td>w</td>\n",
       "      <td>w</td>\n",
       "      <td>p</td>\n",
       "      <td>w</td>\n",
       "      <td>o</td>\n",
       "      <td>p</td>\n",
       "      <td>k</td>\n",
       "      <td>s</td>\n",
       "      <td>u</td>\n",
       "    </tr>\n",
       "    <tr>\n",
       "      <th>4</th>\n",
       "      <td>e</td>\n",
       "      <td>x</td>\n",
       "      <td>s</td>\n",
       "      <td>g</td>\n",
       "      <td>f</td>\n",
       "      <td>n</td>\n",
       "      <td>f</td>\n",
       "      <td>w</td>\n",
       "      <td>b</td>\n",
       "      <td>k</td>\n",
       "      <td>...</td>\n",
       "      <td>s</td>\n",
       "      <td>w</td>\n",
       "      <td>w</td>\n",
       "      <td>p</td>\n",
       "      <td>w</td>\n",
       "      <td>o</td>\n",
       "      <td>e</td>\n",
       "      <td>n</td>\n",
       "      <td>a</td>\n",
       "      <td>g</td>\n",
       "    </tr>\n",
       "  </tbody>\n",
       "</table>\n",
       "<p>5 rows × 23 columns</p>\n",
       "</div>"
      ],
      "text/plain": [
       "  class cap-shape cap-surface cap-color bruises odor gill-attachment  \\\n",
       "0     p         x           s         n       t    p               f   \n",
       "1     e         x           s         y       t    a               f   \n",
       "2     e         b           s         w       t    l               f   \n",
       "3     p         x           y         w       t    p               f   \n",
       "4     e         x           s         g       f    n               f   \n",
       "\n",
       "  gill-spacing gill-size gill-color  ... stalk-surface-below-ring  \\\n",
       "0            c         n          k  ...                        s   \n",
       "1            c         b          k  ...                        s   \n",
       "2            c         b          n  ...                        s   \n",
       "3            c         n          n  ...                        s   \n",
       "4            w         b          k  ...                        s   \n",
       "\n",
       "  stalk-color-above-ring stalk-color-below-ring veil-type veil-color  \\\n",
       "0                      w                      w         p          w   \n",
       "1                      w                      w         p          w   \n",
       "2                      w                      w         p          w   \n",
       "3                      w                      w         p          w   \n",
       "4                      w                      w         p          w   \n",
       "\n",
       "  ring-number ring-type spore-print-color population habitat  \n",
       "0           o         p                 k          s       u  \n",
       "1           o         p                 n          n       g  \n",
       "2           o         p                 n          n       m  \n",
       "3           o         p                 k          s       u  \n",
       "4           o         e                 n          a       g  \n",
       "\n",
       "[5 rows x 23 columns]"
      ]
     },
     "execution_count": 3,
     "metadata": {},
     "output_type": "execute_result"
    }
   ],
   "source": [
    "data.head()"
   ]
  },
  {
   "cell_type": "markdown",
   "id": "pressing-emerald",
   "metadata": {},
   "source": [
    "### zapoznanie z danymi"
   ]
  },
  {
   "cell_type": "markdown",
   "id": "amazing-andrews",
   "metadata": {},
   "source": [
    "#### opis kategorii\n",
    "\n",
    "\n",
    "Attribute Information: (classes: edible=e, poisonous=p)\n",
    "\n",
    "cap-shape: bell=b,conical=c,convex=x,flat=f, knobbed=k,sunken=s\n",
    "\n",
    "cap-surface: fibrous=f,grooves=g,scaly=y,smooth=s\n",
    "\n",
    "cap-color: brown=n,buff=b,cinnamon=c,gray=g,green=r,pink=p,purple=u,red=e,white=w,yellow=y\n",
    "\n",
    "bruises: bruises=t,no=f\n",
    "\n",
    "odor: almond=a,anise=l,creosote=c,fishy=y,foul=f,musty=m,none=n,pungent=p,spicy=s\n",
    "\n",
    "gill-attachment: attached=a,descending=d,free=f,notched=n\n",
    "\n",
    "gill-spacing: close=c,crowded=w,distant=d\n",
    "\n",
    "gill-size: broad=b,narrow=n\n",
    "\n",
    "gill-color: black=k,brown=n,buff=b,chocolate=h,gray=g, green=r,orange=o,pink=p,purple=u,red=e,white=w,yellow=y\n",
    "\n",
    "stalk-shape: enlarging=e,tapering=t\n",
    "\n",
    "stalk-root: bulbous=b,club=c,cup=u,equal=e,rhizomorphs=z,rooted=r,missing=?\n",
    "\n",
    "stalk-surface-above-ring: fibrous=f,scaly=y,silky=k,smooth=s\n",
    "\n",
    "stalk-surface-below-ring: fibrous=f,scaly=y,silky=k,smooth=s\n",
    "\n",
    "stalk-color-above-ring: brown=n,buff=b,cinnamon=c,gray=g,orange=o,pink=p,red=e,white=w,yellow=y\n",
    "\n",
    "stalk-color-below-ring: brown=n,buff=b,cinnamon=c,gray=g,orange=o,pink=p,red=e,white=w,yellow=y\n",
    "\n",
    "veil-type: partial=p,universal=u\n",
    "\n",
    "veil-color: brown=n,orange=o,white=w,yellow=y\n",
    "\n",
    "ring-number: none=n,one=o,two=t\n",
    "\n",
    "ring-type: cobwebby=c,evanescent=e,flaring=f,large=l,none=n,pendant=p,sheathing=s,zone=z\n",
    "\n",
    "spore-print-color: black=k,brown=n,buff=b,chocolate=h,green=r,orange=o,purple=u,white=w,yellow=y\n",
    "\n",
    "population: abundant=a,clustered=c,numerous=n,scattered=s,several=v,solitary=y\n",
    "\n",
    "habitat: grasses=g,leaves=l,meadows=m,paths=p,urban=u,waste=w,woods=d"
   ]
  },
  {
   "cell_type": "code",
   "execution_count": 4,
   "id": "suitable-signal",
   "metadata": {
    "scrolled": true
   },
   "outputs": [
    {
     "data": {
      "text/html": [
       "<div>\n",
       "<style scoped>\n",
       "    .dataframe tbody tr th:only-of-type {\n",
       "        vertical-align: middle;\n",
       "    }\n",
       "\n",
       "    .dataframe tbody tr th {\n",
       "        vertical-align: top;\n",
       "    }\n",
       "\n",
       "    .dataframe thead th {\n",
       "        text-align: right;\n",
       "    }\n",
       "</style>\n",
       "<table border=\"1\" class=\"dataframe\">\n",
       "  <thead>\n",
       "    <tr style=\"text-align: right;\">\n",
       "      <th></th>\n",
       "      <th>class</th>\n",
       "      <th>cap-shape</th>\n",
       "      <th>cap-surface</th>\n",
       "      <th>cap-color</th>\n",
       "      <th>bruises</th>\n",
       "      <th>odor</th>\n",
       "      <th>gill-attachment</th>\n",
       "      <th>gill-spacing</th>\n",
       "      <th>gill-size</th>\n",
       "      <th>gill-color</th>\n",
       "      <th>...</th>\n",
       "      <th>stalk-surface-below-ring</th>\n",
       "      <th>stalk-color-above-ring</th>\n",
       "      <th>stalk-color-below-ring</th>\n",
       "      <th>veil-type</th>\n",
       "      <th>veil-color</th>\n",
       "      <th>ring-number</th>\n",
       "      <th>ring-type</th>\n",
       "      <th>spore-print-color</th>\n",
       "      <th>population</th>\n",
       "      <th>habitat</th>\n",
       "    </tr>\n",
       "  </thead>\n",
       "  <tbody>\n",
       "    <tr>\n",
       "      <th>count</th>\n",
       "      <td>8124</td>\n",
       "      <td>8124</td>\n",
       "      <td>8124</td>\n",
       "      <td>8124</td>\n",
       "      <td>8124</td>\n",
       "      <td>8124</td>\n",
       "      <td>8124</td>\n",
       "      <td>8124</td>\n",
       "      <td>8124</td>\n",
       "      <td>8124</td>\n",
       "      <td>...</td>\n",
       "      <td>8124</td>\n",
       "      <td>8124</td>\n",
       "      <td>8124</td>\n",
       "      <td>8124</td>\n",
       "      <td>8124</td>\n",
       "      <td>8124</td>\n",
       "      <td>8124</td>\n",
       "      <td>8124</td>\n",
       "      <td>8124</td>\n",
       "      <td>8124</td>\n",
       "    </tr>\n",
       "    <tr>\n",
       "      <th>unique</th>\n",
       "      <td>2</td>\n",
       "      <td>6</td>\n",
       "      <td>4</td>\n",
       "      <td>10</td>\n",
       "      <td>2</td>\n",
       "      <td>9</td>\n",
       "      <td>2</td>\n",
       "      <td>2</td>\n",
       "      <td>2</td>\n",
       "      <td>12</td>\n",
       "      <td>...</td>\n",
       "      <td>4</td>\n",
       "      <td>9</td>\n",
       "      <td>9</td>\n",
       "      <td>1</td>\n",
       "      <td>4</td>\n",
       "      <td>3</td>\n",
       "      <td>5</td>\n",
       "      <td>9</td>\n",
       "      <td>6</td>\n",
       "      <td>7</td>\n",
       "    </tr>\n",
       "    <tr>\n",
       "      <th>top</th>\n",
       "      <td>e</td>\n",
       "      <td>x</td>\n",
       "      <td>y</td>\n",
       "      <td>n</td>\n",
       "      <td>f</td>\n",
       "      <td>n</td>\n",
       "      <td>f</td>\n",
       "      <td>c</td>\n",
       "      <td>b</td>\n",
       "      <td>b</td>\n",
       "      <td>...</td>\n",
       "      <td>s</td>\n",
       "      <td>w</td>\n",
       "      <td>w</td>\n",
       "      <td>p</td>\n",
       "      <td>w</td>\n",
       "      <td>o</td>\n",
       "      <td>p</td>\n",
       "      <td>w</td>\n",
       "      <td>v</td>\n",
       "      <td>d</td>\n",
       "    </tr>\n",
       "    <tr>\n",
       "      <th>freq</th>\n",
       "      <td>4208</td>\n",
       "      <td>3656</td>\n",
       "      <td>3244</td>\n",
       "      <td>2284</td>\n",
       "      <td>4748</td>\n",
       "      <td>3528</td>\n",
       "      <td>7914</td>\n",
       "      <td>6812</td>\n",
       "      <td>5612</td>\n",
       "      <td>1728</td>\n",
       "      <td>...</td>\n",
       "      <td>4936</td>\n",
       "      <td>4464</td>\n",
       "      <td>4384</td>\n",
       "      <td>8124</td>\n",
       "      <td>7924</td>\n",
       "      <td>7488</td>\n",
       "      <td>3968</td>\n",
       "      <td>2388</td>\n",
       "      <td>4040</td>\n",
       "      <td>3148</td>\n",
       "    </tr>\n",
       "  </tbody>\n",
       "</table>\n",
       "<p>4 rows × 23 columns</p>\n",
       "</div>"
      ],
      "text/plain": [
       "       class cap-shape cap-surface cap-color bruises  odor gill-attachment  \\\n",
       "count   8124      8124        8124      8124    8124  8124            8124   \n",
       "unique     2         6           4        10       2     9               2   \n",
       "top        e         x           y         n       f     n               f   \n",
       "freq    4208      3656        3244      2284    4748  3528            7914   \n",
       "\n",
       "       gill-spacing gill-size gill-color  ... stalk-surface-below-ring  \\\n",
       "count          8124      8124       8124  ...                     8124   \n",
       "unique            2         2         12  ...                        4   \n",
       "top               c         b          b  ...                        s   \n",
       "freq           6812      5612       1728  ...                     4936   \n",
       "\n",
       "       stalk-color-above-ring stalk-color-below-ring veil-type veil-color  \\\n",
       "count                    8124                   8124      8124       8124   \n",
       "unique                      9                      9         1          4   \n",
       "top                         w                      w         p          w   \n",
       "freq                     4464                   4384      8124       7924   \n",
       "\n",
       "       ring-number ring-type spore-print-color population habitat  \n",
       "count         8124      8124              8124       8124    8124  \n",
       "unique           3         5                 9          6       7  \n",
       "top              o         p                 w          v       d  \n",
       "freq          7488      3968              2388       4040    3148  \n",
       "\n",
       "[4 rows x 23 columns]"
      ]
     },
     "execution_count": 4,
     "metadata": {},
     "output_type": "execute_result"
    }
   ],
   "source": [
    "data.describe()"
   ]
  },
  {
   "cell_type": "code",
   "execution_count": 6,
   "id": "biological-remove",
   "metadata": {
    "scrolled": true
   },
   "outputs": [
    {
     "name": "stdout",
     "output_type": "stream",
     "text": [
      "<class 'pandas.core.frame.DataFrame'>\n",
      "RangeIndex: 8124 entries, 0 to 8123\n",
      "Data columns (total 23 columns):\n",
      " #   Column                    Non-Null Count  Dtype \n",
      "---  ------                    --------------  ----- \n",
      " 0   class                     8124 non-null   object\n",
      " 1   cap-shape                 8124 non-null   object\n",
      " 2   cap-surface               8124 non-null   object\n",
      " 3   cap-color                 8124 non-null   object\n",
      " 4   bruises                   8124 non-null   object\n",
      " 5   odor                      8124 non-null   object\n",
      " 6   gill-attachment           8124 non-null   object\n",
      " 7   gill-spacing              8124 non-null   object\n",
      " 8   gill-size                 8124 non-null   object\n",
      " 9   gill-color                8124 non-null   object\n",
      " 10  stalk-shape               8124 non-null   object\n",
      " 11  stalk-root                8124 non-null   object\n",
      " 12  stalk-surface-above-ring  8124 non-null   object\n",
      " 13  stalk-surface-below-ring  8124 non-null   object\n",
      " 14  stalk-color-above-ring    8124 non-null   object\n",
      " 15  stalk-color-below-ring    8124 non-null   object\n",
      " 16  veil-type                 8124 non-null   object\n",
      " 17  veil-color                8124 non-null   object\n",
      " 18  ring-number               8124 non-null   object\n",
      " 19  ring-type                 8124 non-null   object\n",
      " 20  spore-print-color         8124 non-null   object\n",
      " 21  population                8124 non-null   object\n",
      " 22  habitat                   8124 non-null   object\n",
      "dtypes: object(23)\n",
      "memory usage: 1.4+ MB\n"
     ]
    }
   ],
   "source": [
    "data.info()"
   ]
  },
  {
   "cell_type": "code",
   "execution_count": 5,
   "id": "verbal-kingston",
   "metadata": {
    "scrolled": true
   },
   "outputs": [
    {
     "data": {
      "text/plain": [
       "class                       0\n",
       "cap-shape                   0\n",
       "cap-surface                 0\n",
       "cap-color                   0\n",
       "bruises                     0\n",
       "odor                        0\n",
       "gill-attachment             0\n",
       "gill-spacing                0\n",
       "gill-size                   0\n",
       "gill-color                  0\n",
       "stalk-shape                 0\n",
       "stalk-root                  0\n",
       "stalk-surface-above-ring    0\n",
       "stalk-surface-below-ring    0\n",
       "stalk-color-above-ring      0\n",
       "stalk-color-below-ring      0\n",
       "veil-type                   0\n",
       "veil-color                  0\n",
       "ring-number                 0\n",
       "ring-type                   0\n",
       "spore-print-color           0\n",
       "population                  0\n",
       "habitat                     0\n",
       "dtype: int64"
      ]
     },
     "execution_count": 5,
     "metadata": {},
     "output_type": "execute_result"
    }
   ],
   "source": [
    "data.isna().sum()"
   ]
  },
  {
   "cell_type": "code",
   "execution_count": 6,
   "id": "elect-syntax",
   "metadata": {},
   "outputs": [
    {
     "data": {
      "text/plain": [
       "(8124, 23)"
      ]
     },
     "execution_count": 6,
     "metadata": {},
     "output_type": "execute_result"
    }
   ],
   "source": [
    "data.shape"
   ]
  },
  {
   "cell_type": "code",
   "execution_count": 7,
   "id": "north-czech",
   "metadata": {},
   "outputs": [
    {
     "data": {
      "text/plain": [
       "class                       8124\n",
       "cap-shape                   8124\n",
       "cap-surface                 8124\n",
       "cap-color                   8124\n",
       "bruises                     8124\n",
       "odor                        8124\n",
       "gill-attachment             8124\n",
       "gill-spacing                8124\n",
       "gill-size                   8124\n",
       "gill-color                  8124\n",
       "stalk-shape                 8124\n",
       "stalk-root                  8124\n",
       "stalk-surface-above-ring    8124\n",
       "stalk-surface-below-ring    8124\n",
       "stalk-color-above-ring      8124\n",
       "stalk-color-below-ring      8124\n",
       "veil-type                   8124\n",
       "veil-color                  8124\n",
       "ring-number                 8124\n",
       "ring-type                   8124\n",
       "spore-print-color           8124\n",
       "population                  8124\n",
       "habitat                     8124\n",
       "dtype: int64"
      ]
     },
     "execution_count": 7,
     "metadata": {},
     "output_type": "execute_result"
    }
   ],
   "source": [
    "data.count()"
   ]
  },
  {
   "cell_type": "code",
   "execution_count": 8,
   "id": "split-reason",
   "metadata": {},
   "outputs": [
    {
     "data": {
      "text/plain": [
       "([<matplotlib.patches.Wedge at 0x16d8283c708>,\n",
       "  <matplotlib.patches.Wedge at 0x16d82c08848>],\n",
       " [Text(-0.062071904545809166, 1.0982472757380535, 'edible'),\n",
       "  Text(0.062071904545808784, -1.0982472757380535, 'poisonous')],\n",
       " [Text(-0.03385740247953227, 0.5990439685843927, '51.8%'),\n",
       "  Text(0.03385740247953206, -0.5990439685843928, '48.2%')])"
      ]
     },
     "execution_count": 8,
     "metadata": {},
     "output_type": "execute_result"
    },
    {
     "data": {
      "image/png": "[encoded data removed]",
      "text/plain": [
       "<Figure size 576x576 with 1 Axes>"
      ]
     },
     "metadata": {},
     "output_type": "display_data"
    }
   ],
   "source": [
    "plt.figure(figsize=(8,8))\n",
    "plt.pie(data['class'].value_counts(), labels=['edible','poisonous'], autopct='%1.1f%%')"
   ]
  },
  {
   "cell_type": "code",
   "execution_count": 9,
   "id": "introductory-savannah",
   "metadata": {},
   "outputs": [],
   "source": [
    "cols = data.columns"
   ]
  },
  {
   "cell_type": "code",
   "execution_count": 10,
   "id": "competitive-company",
   "metadata": {},
   "outputs": [
    {
     "name": "stdout",
     "output_type": "stream",
     "text": [
      "e    4208\n",
      "p    3916\n",
      "Name: class, dtype: int64\n",
      "x    3656\n",
      "f    3152\n",
      "k     828\n",
      "b     452\n",
      "s      32\n",
      "c       4\n",
      "Name: cap-shape, dtype: int64\n",
      "y    3244\n",
      "s    2556\n",
      "f    2320\n",
      "g       4\n",
      "Name: cap-surface, dtype: int64\n",
      "n    2284\n",
      "g    1840\n",
      "e    1500\n",
      "y    1072\n",
      "w    1040\n",
      "b     168\n",
      "p     144\n",
      "c      44\n",
      "r      16\n",
      "u      16\n",
      "Name: cap-color, dtype: int64\n",
      "f    4748\n",
      "t    3376\n",
      "Name: bruises, dtype: int64\n",
      "n    3528\n",
      "f    2160\n",
      "s     576\n",
      "y     576\n",
      "l     400\n",
      "a     400\n",
      "p     256\n",
      "c     192\n",
      "m      36\n",
      "Name: odor, dtype: int64\n",
      "f    7914\n",
      "a     210\n",
      "Name: gill-attachment, dtype: int64\n",
      "c    6812\n",
      "w    1312\n",
      "Name: gill-spacing, dtype: int64\n",
      "b    5612\n",
      "n    2512\n",
      "Name: gill-size, dtype: int64\n",
      "b    1728\n",
      "p    1492\n",
      "w    1202\n",
      "n    1048\n",
      "g     752\n",
      "h     732\n",
      "u     492\n",
      "k     408\n",
      "e      96\n",
      "y      86\n",
      "o      64\n",
      "r      24\n",
      "Name: gill-color, dtype: int64\n",
      "t    4608\n",
      "e    3516\n",
      "Name: stalk-shape, dtype: int64\n",
      "b    3776\n",
      "?    2480\n",
      "e    1120\n",
      "c     556\n",
      "r     192\n",
      "Name: stalk-root, dtype: int64\n",
      "s    5176\n",
      "k    2372\n",
      "f     552\n",
      "y      24\n",
      "Name: stalk-surface-above-ring, dtype: int64\n",
      "s    4936\n",
      "k    2304\n",
      "f     600\n",
      "y     284\n",
      "Name: stalk-surface-below-ring, dtype: int64\n",
      "w    4464\n",
      "p    1872\n",
      "g     576\n",
      "n     448\n",
      "b     432\n",
      "o     192\n",
      "e      96\n",
      "c      36\n",
      "y       8\n",
      "Name: stalk-color-above-ring, dtype: int64\n",
      "w    4384\n",
      "p    1872\n",
      "g     576\n",
      "n     512\n",
      "b     432\n",
      "o     192\n",
      "e      96\n",
      "c      36\n",
      "y      24\n",
      "Name: stalk-color-below-ring, dtype: int64\n",
      "p    8124\n",
      "Name: veil-type, dtype: int64\n",
      "w    7924\n",
      "o      96\n",
      "n      96\n",
      "y       8\n",
      "Name: veil-color, dtype: int64\n",
      "o    7488\n",
      "t     600\n",
      "n      36\n",
      "Name: ring-number, dtype: int64\n",
      "p    3968\n",
      "e    2776\n",
      "l    1296\n",
      "f      48\n",
      "n      36\n",
      "Name: ring-type, dtype: int64\n",
      "w    2388\n",
      "n    1968\n",
      "k    1872\n",
      "h    1632\n",
      "r      72\n",
      "u      48\n",
      "y      48\n",
      "b      48\n",
      "o      48\n",
      "Name: spore-print-color, dtype: int64\n",
      "v    4040\n",
      "y    1712\n",
      "s    1248\n",
      "n     400\n",
      "a     384\n",
      "c     340\n",
      "Name: population, dtype: int64\n",
      "d    3148\n",
      "g    2148\n",
      "p    1144\n",
      "l     832\n",
      "u     368\n",
      "m     292\n",
      "w     192\n",
      "Name: habitat, dtype: int64\n"
     ]
    }
   ],
   "source": [
    "for col in cols:\n",
    "    print(data[col].value_counts())"
   ]
  },
  {
   "cell_type": "markdown",
   "id": "auburn-relief",
   "metadata": {},
   "source": [
    "### przekodowanie danych"
   ]
  },
  {
   "cell_type": "code",
   "execution_count": 11,
   "id": "minimal-geneva",
   "metadata": {},
   "outputs": [],
   "source": [
    "le = LabelEncoder()"
   ]
  },
  {
   "cell_type": "code",
   "execution_count": 12,
   "id": "first-worship",
   "metadata": {},
   "outputs": [
    {
     "data": {
      "text/html": [
       "<div>\n",
       "<style scoped>\n",
       "    .dataframe tbody tr th:only-of-type {\n",
       "        vertical-align: middle;\n",
       "    }\n",
       "\n",
       "    .dataframe tbody tr th {\n",
       "        vertical-align: top;\n",
       "    }\n",
       "\n",
       "    .dataframe thead th {\n",
       "        text-align: right;\n",
       "    }\n",
       "</style>\n",
       "<table border=\"1\" class=\"dataframe\">\n",
       "  <thead>\n",
       "    <tr style=\"text-align: right;\">\n",
       "      <th></th>\n",
       "      <th>class</th>\n",
       "      <th>cap-shape</th>\n",
       "      <th>cap-surface</th>\n",
       "      <th>cap-color</th>\n",
       "      <th>bruises</th>\n",
       "      <th>odor</th>\n",
       "      <th>gill-attachment</th>\n",
       "      <th>gill-spacing</th>\n",
       "      <th>gill-size</th>\n",
       "      <th>gill-color</th>\n",
       "      <th>...</th>\n",
       "      <th>stalk-surface-below-ring</th>\n",
       "      <th>stalk-color-above-ring</th>\n",
       "      <th>stalk-color-below-ring</th>\n",
       "      <th>veil-type</th>\n",
       "      <th>veil-color</th>\n",
       "      <th>ring-number</th>\n",
       "      <th>ring-type</th>\n",
       "      <th>spore-print-color</th>\n",
       "      <th>population</th>\n",
       "      <th>habitat</th>\n",
       "    </tr>\n",
       "  </thead>\n",
       "  <tbody>\n",
       "    <tr>\n",
       "      <th>0</th>\n",
       "      <td>1</td>\n",
       "      <td>5</td>\n",
       "      <td>2</td>\n",
       "      <td>4</td>\n",
       "      <td>1</td>\n",
       "      <td>6</td>\n",
       "      <td>1</td>\n",
       "      <td>0</td>\n",
       "      <td>1</td>\n",
       "      <td>4</td>\n",
       "      <td>...</td>\n",
       "      <td>2</td>\n",
       "      <td>7</td>\n",
       "      <td>7</td>\n",
       "      <td>0</td>\n",
       "      <td>2</td>\n",
       "      <td>1</td>\n",
       "      <td>4</td>\n",
       "      <td>2</td>\n",
       "      <td>3</td>\n",
       "      <td>5</td>\n",
       "    </tr>\n",
       "    <tr>\n",
       "      <th>1</th>\n",
       "      <td>0</td>\n",
       "      <td>5</td>\n",
       "      <td>2</td>\n",
       "      <td>9</td>\n",
       "      <td>1</td>\n",
       "      <td>0</td>\n",
       "      <td>1</td>\n",
       "      <td>0</td>\n",
       "      <td>0</td>\n",
       "      <td>4</td>\n",
       "      <td>...</td>\n",
       "      <td>2</td>\n",
       "      <td>7</td>\n",
       "      <td>7</td>\n",
       "      <td>0</td>\n",
       "      <td>2</td>\n",
       "      <td>1</td>\n",
       "      <td>4</td>\n",
       "      <td>3</td>\n",
       "      <td>2</td>\n",
       "      <td>1</td>\n",
       "    </tr>\n",
       "    <tr>\n",
       "      <th>2</th>\n",
       "      <td>0</td>\n",
       "      <td>0</td>\n",
       "      <td>2</td>\n",
       "      <td>8</td>\n",
       "      <td>1</td>\n",
       "      <td>3</td>\n",
       "      <td>1</td>\n",
       "      <td>0</td>\n",
       "      <td>0</td>\n",
       "      <td>5</td>\n",
       "      <td>...</td>\n",
       "      <td>2</td>\n",
       "      <td>7</td>\n",
       "      <td>7</td>\n",
       "      <td>0</td>\n",
       "      <td>2</td>\n",
       "      <td>1</td>\n",
       "      <td>4</td>\n",
       "      <td>3</td>\n",
       "      <td>2</td>\n",
       "      <td>3</td>\n",
       "    </tr>\n",
       "    <tr>\n",
       "      <th>3</th>\n",
       "      <td>1</td>\n",
       "      <td>5</td>\n",
       "      <td>3</td>\n",
       "      <td>8</td>\n",
       "      <td>1</td>\n",
       "      <td>6</td>\n",
       "      <td>1</td>\n",
       "      <td>0</td>\n",
       "      <td>1</td>\n",
       "      <td>5</td>\n",
       "      <td>...</td>\n",
       "      <td>2</td>\n",
       "      <td>7</td>\n",
       "      <td>7</td>\n",
       "      <td>0</td>\n",
       "      <td>2</td>\n",
       "      <td>1</td>\n",
       "      <td>4</td>\n",
       "      <td>2</td>\n",
       "      <td>3</td>\n",
       "      <td>5</td>\n",
       "    </tr>\n",
       "    <tr>\n",
       "      <th>4</th>\n",
       "      <td>0</td>\n",
       "      <td>5</td>\n",
       "      <td>2</td>\n",
       "      <td>3</td>\n",
       "      <td>0</td>\n",
       "      <td>5</td>\n",
       "      <td>1</td>\n",
       "      <td>1</td>\n",
       "      <td>0</td>\n",
       "      <td>4</td>\n",
       "      <td>...</td>\n",
       "      <td>2</td>\n",
       "      <td>7</td>\n",
       "      <td>7</td>\n",
       "      <td>0</td>\n",
       "      <td>2</td>\n",
       "      <td>1</td>\n",
       "      <td>0</td>\n",
       "      <td>3</td>\n",
       "      <td>0</td>\n",
       "      <td>1</td>\n",
       "    </tr>\n",
       "  </tbody>\n",
       "</table>\n",
       "<p>5 rows × 23 columns</p>\n",
       "</div>"
      ],
      "text/plain": [
       "   class  cap-shape  cap-surface  cap-color  bruises  odor  gill-attachment  \\\n",
       "0      1          5            2          4        1     6                1   \n",
       "1      0          5            2          9        1     0                1   \n",
       "2      0          0            2          8        1     3                1   \n",
       "3      1          5            3          8        1     6                1   \n",
       "4      0          5            2          3        0     5                1   \n",
       "\n",
       "   gill-spacing  gill-size  gill-color  ...  stalk-surface-below-ring  \\\n",
       "0             0          1           4  ...                         2   \n",
       "1             0          0           4  ...                         2   \n",
       "2             0          0           5  ...                         2   \n",
       "3             0          1           5  ...                         2   \n",
       "4             1          0           4  ...                         2   \n",
       "\n",
       "   stalk-color-above-ring  stalk-color-below-ring  veil-type  veil-color  \\\n",
       "0                       7                       7          0           2   \n",
       "1                       7                       7          0           2   \n",
       "2                       7                       7          0           2   \n",
       "3                       7                       7          0           2   \n",
       "4                       7                       7          0           2   \n",
       "\n",
       "   ring-number  ring-type  spore-print-color  population  habitat  \n",
       "0            1          4                  2           3        5  \n",
       "1            1          4                  3           2        1  \n",
       "2            1          4                  3           2        3  \n",
       "3            1          4                  2           3        5  \n",
       "4            1          0                  3           0        1  \n",
       "\n",
       "[5 rows x 23 columns]"
      ]
     },
     "execution_count": 12,
     "metadata": {},
     "output_type": "execute_result"
    }
   ],
   "source": [
    "data_enc = data.apply(le.fit_transform)\n",
    "data_enc.head()"
   ]
  },
  {
   "cell_type": "code",
   "execution_count": 21,
   "id": "operational-thickness",
   "metadata": {},
   "outputs": [
    {
     "data": {
      "text/plain": [
       "array([[<AxesSubplot:title={'center':'class'}>,\n",
       "        <AxesSubplot:title={'center':'cap-shape'}>,\n",
       "        <AxesSubplot:title={'center':'cap-surface'}>,\n",
       "        <AxesSubplot:title={'center':'cap-color'}>,\n",
       "        <AxesSubplot:title={'center':'bruises'}>],\n",
       "       [<AxesSubplot:title={'center':'odor'}>,\n",
       "        <AxesSubplot:title={'center':'gill-attachment'}>,\n",
       "        <AxesSubplot:title={'center':'gill-spacing'}>,\n",
       "        <AxesSubplot:title={'center':'gill-size'}>,\n",
       "        <AxesSubplot:title={'center':'gill-color'}>],\n",
       "       [<AxesSubplot:title={'center':'stalk-shape'}>,\n",
       "        <AxesSubplot:title={'center':'stalk-root'}>,\n",
       "        <AxesSubplot:title={'center':'stalk-surface-above-ring'}>,\n",
       "        <AxesSubplot:title={'center':'stalk-surface-below-ring'}>,\n",
       "        <AxesSubplot:title={'center':'stalk-color-above-ring'}>],\n",
       "       [<AxesSubplot:title={'center':'stalk-color-below-ring'}>,\n",
       "        <AxesSubplot:title={'center':'veil-type'}>,\n",
       "        <AxesSubplot:title={'center':'veil-color'}>,\n",
       "        <AxesSubplot:title={'center':'ring-number'}>,\n",
       "        <AxesSubplot:title={'center':'ring-type'}>],\n",
       "       [<AxesSubplot:title={'center':'spore-print-color'}>,\n",
       "        <AxesSubplot:title={'center':'population'}>,\n",
       "        <AxesSubplot:title={'center':'habitat'}>, <AxesSubplot:>,\n",
       "        <AxesSubplot:>]], dtype=object)"
      ]
     },
     "execution_count": 21,
     "metadata": {},
     "output_type": "execute_result"
    },
    {
     "data": {
      "image/png": "[encoded data removed]",
      "text/plain": [
       "<Figure size 1440x1440 with 25 Axes>"
      ]
     },
     "metadata": {
      "needs_background": "light"
     },
     "output_type": "display_data"
    }
   ],
   "source": [
    "data_enc.hist(figsize=(20,20))"
   ]
  },
  {
   "cell_type": "code",
   "execution_count": 13,
   "id": "adjusted-founder",
   "metadata": {},
   "outputs": [
    {
     "name": "stdout",
     "output_type": "stream",
     "text": [
      "0    4208\n",
      "1    3916\n",
      "Name: class, dtype: int64\n",
      "5    3656\n",
      "2    3152\n",
      "3     828\n",
      "0     452\n",
      "4      32\n",
      "1       4\n",
      "Name: cap-shape, dtype: int64\n",
      "3    3244\n",
      "2    2556\n",
      "0    2320\n",
      "1       4\n",
      "Name: cap-surface, dtype: int64\n",
      "4    2284\n",
      "3    1840\n",
      "2    1500\n",
      "9    1072\n",
      "8    1040\n",
      "0     168\n",
      "5     144\n",
      "1      44\n",
      "6      16\n",
      "7      16\n",
      "Name: cap-color, dtype: int64\n",
      "0    4748\n",
      "1    3376\n",
      "Name: bruises, dtype: int64\n",
      "5    3528\n",
      "2    2160\n",
      "8     576\n",
      "7     576\n",
      "0     400\n",
      "3     400\n",
      "6     256\n",
      "1     192\n",
      "4      36\n",
      "Name: odor, dtype: int64\n",
      "1    7914\n",
      "0     210\n",
      "Name: gill-attachment, dtype: int64\n",
      "0    6812\n",
      "1    1312\n",
      "Name: gill-spacing, dtype: int64\n",
      "0    5612\n",
      "1    2512\n",
      "Name: gill-size, dtype: int64\n",
      "0     1728\n",
      "7     1492\n",
      "10    1202\n",
      "5     1048\n",
      "2      752\n",
      "3      732\n",
      "9      492\n",
      "4      408\n",
      "1       96\n",
      "11      86\n",
      "6       64\n",
      "8       24\n",
      "Name: gill-color, dtype: int64\n",
      "1    4608\n",
      "0    3516\n",
      "Name: stalk-shape, dtype: int64\n",
      "1    3776\n",
      "0    2480\n",
      "3    1120\n",
      "2     556\n",
      "4     192\n",
      "Name: stalk-root, dtype: int64\n",
      "2    5176\n",
      "1    2372\n",
      "0     552\n",
      "3      24\n",
      "Name: stalk-surface-above-ring, dtype: int64\n",
      "2    4936\n",
      "1    2304\n",
      "0     600\n",
      "3     284\n",
      "Name: stalk-surface-below-ring, dtype: int64\n",
      "7    4464\n",
      "6    1872\n",
      "3     576\n",
      "4     448\n",
      "0     432\n",
      "5     192\n",
      "2      96\n",
      "1      36\n",
      "8       8\n",
      "Name: stalk-color-above-ring, dtype: int64\n",
      "7    4384\n",
      "6    1872\n",
      "3     576\n",
      "4     512\n",
      "0     432\n",
      "5     192\n",
      "2      96\n",
      "1      36\n",
      "8      24\n",
      "Name: stalk-color-below-ring, dtype: int64\n",
      "0    8124\n",
      "Name: veil-type, dtype: int64\n",
      "2    7924\n",
      "0      96\n",
      "1      96\n",
      "3       8\n",
      "Name: veil-color, dtype: int64\n",
      "1    7488\n",
      "2     600\n",
      "0      36\n",
      "Name: ring-number, dtype: int64\n",
      "4    3968\n",
      "0    2776\n",
      "2    1296\n",
      "1      48\n",
      "3      36\n",
      "Name: ring-type, dtype: int64\n",
      "7    2388\n",
      "3    1968\n",
      "2    1872\n",
      "1    1632\n",
      "5      72\n",
      "0      48\n",
      "4      48\n",
      "8      48\n",
      "6      48\n",
      "Name: spore-print-color, dtype: int64\n",
      "4    4040\n",
      "5    1712\n",
      "3    1248\n",
      "2     400\n",
      "0     384\n",
      "1     340\n",
      "Name: population, dtype: int64\n",
      "0    3148\n",
      "1    2148\n",
      "4    1144\n",
      "2     832\n",
      "5     368\n",
      "3     292\n",
      "6     192\n",
      "Name: habitat, dtype: int64\n"
     ]
    }
   ],
   "source": [
    "for col in cols:\n",
    "    print(data_enc[col].value_counts())"
   ]
  },
  {
   "cell_type": "code",
   "execution_count": 14,
   "id": "neutral-usage",
   "metadata": {},
   "outputs": [],
   "source": [
    "data_enc = data_enc.drop(['veil-type'], axis=1)"
   ]
  },
  {
   "cell_type": "code",
   "execution_count": 15,
   "id": "acoustic-jenny",
   "metadata": {},
   "outputs": [],
   "source": [
    "data_corr = data_enc.corr()"
   ]
  },
  {
   "cell_type": "code",
   "execution_count": 16,
   "id": "promising-winner",
   "metadata": {},
   "outputs": [
    {
     "data": {
      "text/html": [
       "<div>\n",
       "<style scoped>\n",
       "    .dataframe tbody tr th:only-of-type {\n",
       "        vertical-align: middle;\n",
       "    }\n",
       "\n",
       "    .dataframe tbody tr th {\n",
       "        vertical-align: top;\n",
       "    }\n",
       "\n",
       "    .dataframe thead th {\n",
       "        text-align: right;\n",
       "    }\n",
       "</style>\n",
       "<table border=\"1\" class=\"dataframe\">\n",
       "  <thead>\n",
       "    <tr style=\"text-align: right;\">\n",
       "      <th></th>\n",
       "      <th>class</th>\n",
       "      <th>cap-shape</th>\n",
       "      <th>cap-surface</th>\n",
       "      <th>cap-color</th>\n",
       "      <th>bruises</th>\n",
       "      <th>odor</th>\n",
       "      <th>gill-attachment</th>\n",
       "      <th>gill-spacing</th>\n",
       "      <th>gill-size</th>\n",
       "      <th>gill-color</th>\n",
       "      <th>...</th>\n",
       "      <th>stalk-surface-above-ring</th>\n",
       "      <th>stalk-surface-below-ring</th>\n",
       "      <th>stalk-color-above-ring</th>\n",
       "      <th>stalk-color-below-ring</th>\n",
       "      <th>veil-color</th>\n",
       "      <th>ring-number</th>\n",
       "      <th>ring-type</th>\n",
       "      <th>spore-print-color</th>\n",
       "      <th>population</th>\n",
       "      <th>habitat</th>\n",
       "    </tr>\n",
       "  </thead>\n",
       "  <tbody>\n",
       "    <tr>\n",
       "      <th>class</th>\n",
       "      <td>1.000000</td>\n",
       "      <td>0.052951</td>\n",
       "      <td>0.178446</td>\n",
       "      <td>-0.031384</td>\n",
       "      <td>-0.501530</td>\n",
       "      <td>-0.093552</td>\n",
       "      <td>0.129200</td>\n",
       "      <td>-0.348387</td>\n",
       "      <td>0.540024</td>\n",
       "      <td>-0.530566</td>\n",
       "      <td>...</td>\n",
       "      <td>-0.334593</td>\n",
       "      <td>-0.298801</td>\n",
       "      <td>-0.154003</td>\n",
       "      <td>-0.146730</td>\n",
       "      <td>0.145142</td>\n",
       "      <td>-0.214366</td>\n",
       "      <td>-0.411771</td>\n",
       "      <td>0.171961</td>\n",
       "      <td>0.298686</td>\n",
       "      <td>0.217179</td>\n",
       "    </tr>\n",
       "    <tr>\n",
       "      <th>cap-shape</th>\n",
       "      <td>0.052951</td>\n",
       "      <td>1.000000</td>\n",
       "      <td>-0.050454</td>\n",
       "      <td>-0.048203</td>\n",
       "      <td>-0.035374</td>\n",
       "      <td>-0.021935</td>\n",
       "      <td>0.078865</td>\n",
       "      <td>0.013196</td>\n",
       "      <td>0.054050</td>\n",
       "      <td>-0.006039</td>\n",
       "      <td>...</td>\n",
       "      <td>-0.030417</td>\n",
       "      <td>-0.032591</td>\n",
       "      <td>-0.031659</td>\n",
       "      <td>-0.030390</td>\n",
       "      <td>0.072560</td>\n",
       "      <td>-0.106534</td>\n",
       "      <td>-0.025457</td>\n",
       "      <td>-0.073416</td>\n",
       "      <td>0.063413</td>\n",
       "      <td>-0.042221</td>\n",
       "    </tr>\n",
       "    <tr>\n",
       "      <th>cap-surface</th>\n",
       "      <td>0.178446</td>\n",
       "      <td>-0.050454</td>\n",
       "      <td>1.000000</td>\n",
       "      <td>-0.019402</td>\n",
       "      <td>0.070228</td>\n",
       "      <td>0.045233</td>\n",
       "      <td>-0.034180</td>\n",
       "      <td>-0.282306</td>\n",
       "      <td>0.208100</td>\n",
       "      <td>-0.161017</td>\n",
       "      <td>...</td>\n",
       "      <td>0.089090</td>\n",
       "      <td>0.107965</td>\n",
       "      <td>0.066050</td>\n",
       "      <td>0.068885</td>\n",
       "      <td>-0.016603</td>\n",
       "      <td>-0.026147</td>\n",
       "      <td>-0.106407</td>\n",
       "      <td>0.230364</td>\n",
       "      <td>0.021555</td>\n",
       "      <td>0.163887</td>\n",
       "    </tr>\n",
       "    <tr>\n",
       "      <th>cap-color</th>\n",
       "      <td>-0.031384</td>\n",
       "      <td>-0.048203</td>\n",
       "      <td>-0.019402</td>\n",
       "      <td>1.000000</td>\n",
       "      <td>-0.000764</td>\n",
       "      <td>-0.387121</td>\n",
       "      <td>0.041436</td>\n",
       "      <td>0.144259</td>\n",
       "      <td>-0.169464</td>\n",
       "      <td>0.084659</td>\n",
       "      <td>...</td>\n",
       "      <td>-0.060837</td>\n",
       "      <td>-0.047710</td>\n",
       "      <td>0.002364</td>\n",
       "      <td>0.008057</td>\n",
       "      <td>0.036130</td>\n",
       "      <td>-0.005822</td>\n",
       "      <td>0.162513</td>\n",
       "      <td>-0.293523</td>\n",
       "      <td>-0.144770</td>\n",
       "      <td>0.033925</td>\n",
       "    </tr>\n",
       "    <tr>\n",
       "      <th>bruises</th>\n",
       "      <td>-0.501530</td>\n",
       "      <td>-0.035374</td>\n",
       "      <td>0.070228</td>\n",
       "      <td>-0.000764</td>\n",
       "      <td>1.000000</td>\n",
       "      <td>-0.061825</td>\n",
       "      <td>0.137359</td>\n",
       "      <td>-0.299473</td>\n",
       "      <td>-0.369596</td>\n",
       "      <td>0.527120</td>\n",
       "      <td>...</td>\n",
       "      <td>0.460824</td>\n",
       "      <td>0.458983</td>\n",
       "      <td>0.083538</td>\n",
       "      <td>0.092874</td>\n",
       "      <td>0.119770</td>\n",
       "      <td>0.056788</td>\n",
       "      <td>0.692973</td>\n",
       "      <td>-0.285008</td>\n",
       "      <td>0.088137</td>\n",
       "      <td>-0.075095</td>\n",
       "    </tr>\n",
       "    <tr>\n",
       "      <th>odor</th>\n",
       "      <td>-0.093552</td>\n",
       "      <td>-0.021935</td>\n",
       "      <td>0.045233</td>\n",
       "      <td>-0.387121</td>\n",
       "      <td>-0.061825</td>\n",
       "      <td>1.000000</td>\n",
       "      <td>-0.059590</td>\n",
       "      <td>0.063936</td>\n",
       "      <td>0.310495</td>\n",
       "      <td>-0.129213</td>\n",
       "      <td>...</td>\n",
       "      <td>0.118617</td>\n",
       "      <td>0.061820</td>\n",
       "      <td>0.174532</td>\n",
       "      <td>0.169407</td>\n",
       "      <td>-0.057747</td>\n",
       "      <td>0.111905</td>\n",
       "      <td>-0.281387</td>\n",
       "      <td>0.469055</td>\n",
       "      <td>-0.043623</td>\n",
       "      <td>-0.026610</td>\n",
       "    </tr>\n",
       "    <tr>\n",
       "      <th>gill-attachment</th>\n",
       "      <td>0.129200</td>\n",
       "      <td>0.078865</td>\n",
       "      <td>-0.034180</td>\n",
       "      <td>0.041436</td>\n",
       "      <td>0.137359</td>\n",
       "      <td>-0.059590</td>\n",
       "      <td>1.000000</td>\n",
       "      <td>0.071489</td>\n",
       "      <td>0.108984</td>\n",
       "      <td>-0.128567</td>\n",
       "      <td>...</td>\n",
       "      <td>-0.088916</td>\n",
       "      <td>-0.116177</td>\n",
       "      <td>0.099299</td>\n",
       "      <td>0.097160</td>\n",
       "      <td>0.897518</td>\n",
       "      <td>0.093236</td>\n",
       "      <td>-0.146689</td>\n",
       "      <td>-0.029524</td>\n",
       "      <td>0.165575</td>\n",
       "      <td>-0.030304</td>\n",
       "    </tr>\n",
       "    <tr>\n",
       "      <th>gill-spacing</th>\n",
       "      <td>-0.348387</td>\n",
       "      <td>0.013196</td>\n",
       "      <td>-0.282306</td>\n",
       "      <td>0.144259</td>\n",
       "      <td>-0.299473</td>\n",
       "      <td>0.063936</td>\n",
       "      <td>0.071489</td>\n",
       "      <td>1.000000</td>\n",
       "      <td>-0.108333</td>\n",
       "      <td>0.100193</td>\n",
       "      <td>...</td>\n",
       "      <td>-0.212359</td>\n",
       "      <td>-0.213775</td>\n",
       "      <td>0.274574</td>\n",
       "      <td>0.253505</td>\n",
       "      <td>0.073363</td>\n",
       "      <td>0.243014</td>\n",
       "      <td>-0.195897</td>\n",
       "      <td>0.047323</td>\n",
       "      <td>-0.529253</td>\n",
       "      <td>-0.154680</td>\n",
       "    </tr>\n",
       "    <tr>\n",
       "      <th>gill-size</th>\n",
       "      <td>0.540024</td>\n",
       "      <td>0.054050</td>\n",
       "      <td>0.208100</td>\n",
       "      <td>-0.169464</td>\n",
       "      <td>-0.369596</td>\n",
       "      <td>0.310495</td>\n",
       "      <td>0.108984</td>\n",
       "      <td>-0.108333</td>\n",
       "      <td>1.000000</td>\n",
       "      <td>-0.516736</td>\n",
       "      <td>...</td>\n",
       "      <td>0.056310</td>\n",
       "      <td>0.010894</td>\n",
       "      <td>0.296548</td>\n",
       "      <td>0.278708</td>\n",
       "      <td>0.103809</td>\n",
       "      <td>-0.171362</td>\n",
       "      <td>-0.460872</td>\n",
       "      <td>0.622991</td>\n",
       "      <td>0.147682</td>\n",
       "      <td>0.161418</td>\n",
       "    </tr>\n",
       "    <tr>\n",
       "      <th>gill-color</th>\n",
       "      <td>-0.530566</td>\n",
       "      <td>-0.006039</td>\n",
       "      <td>-0.161017</td>\n",
       "      <td>0.084659</td>\n",
       "      <td>0.527120</td>\n",
       "      <td>-0.129213</td>\n",
       "      <td>-0.128567</td>\n",
       "      <td>0.100193</td>\n",
       "      <td>-0.516736</td>\n",
       "      <td>1.000000</td>\n",
       "      <td>...</td>\n",
       "      <td>0.224287</td>\n",
       "      <td>0.257224</td>\n",
       "      <td>-0.058299</td>\n",
       "      <td>-0.074781</td>\n",
       "      <td>-0.097583</td>\n",
       "      <td>0.096054</td>\n",
       "      <td>0.629398</td>\n",
       "      <td>-0.416135</td>\n",
       "      <td>-0.034090</td>\n",
       "      <td>-0.202972</td>\n",
       "    </tr>\n",
       "    <tr>\n",
       "      <th>stalk-shape</th>\n",
       "      <td>-0.102019</td>\n",
       "      <td>0.063794</td>\n",
       "      <td>-0.014123</td>\n",
       "      <td>-0.456496</td>\n",
       "      <td>0.099364</td>\n",
       "      <td>0.459766</td>\n",
       "      <td>0.186485</td>\n",
       "      <td>0.080895</td>\n",
       "      <td>0.214576</td>\n",
       "      <td>-0.175699</td>\n",
       "      <td>...</td>\n",
       "      <td>0.015193</td>\n",
       "      <td>-0.034399</td>\n",
       "      <td>0.223439</td>\n",
       "      <td>0.235794</td>\n",
       "      <td>0.162604</td>\n",
       "      <td>-0.293221</td>\n",
       "      <td>-0.291444</td>\n",
       "      <td>0.258831</td>\n",
       "      <td>0.087383</td>\n",
       "      <td>-0.269216</td>\n",
       "    </tr>\n",
       "    <tr>\n",
       "      <th>stalk-root</th>\n",
       "      <td>-0.379361</td>\n",
       "      <td>0.030191</td>\n",
       "      <td>-0.126245</td>\n",
       "      <td>0.321274</td>\n",
       "      <td>0.244188</td>\n",
       "      <td>-0.205215</td>\n",
       "      <td>0.144063</td>\n",
       "      <td>0.350548</td>\n",
       "      <td>-0.344345</td>\n",
       "      <td>0.315080</td>\n",
       "      <td>...</td>\n",
       "      <td>-0.027065</td>\n",
       "      <td>0.087454</td>\n",
       "      <td>0.157140</td>\n",
       "      <td>0.159805</td>\n",
       "      <td>0.156213</td>\n",
       "      <td>-0.247357</td>\n",
       "      <td>0.210155</td>\n",
       "      <td>-0.536996</td>\n",
       "      <td>-0.306747</td>\n",
       "      <td>-0.007668</td>\n",
       "    </tr>\n",
       "    <tr>\n",
       "      <th>stalk-surface-above-ring</th>\n",
       "      <td>-0.334593</td>\n",
       "      <td>-0.030417</td>\n",
       "      <td>0.089090</td>\n",
       "      <td>-0.060837</td>\n",
       "      <td>0.460824</td>\n",
       "      <td>0.118617</td>\n",
       "      <td>-0.088916</td>\n",
       "      <td>-0.212359</td>\n",
       "      <td>0.056310</td>\n",
       "      <td>0.224287</td>\n",
       "      <td>...</td>\n",
       "      <td>1.000000</td>\n",
       "      <td>0.437164</td>\n",
       "      <td>0.132708</td>\n",
       "      <td>0.142835</td>\n",
       "      <td>-0.090591</td>\n",
       "      <td>0.107904</td>\n",
       "      <td>0.390091</td>\n",
       "      <td>0.100764</td>\n",
       "      <td>0.079604</td>\n",
       "      <td>-0.058076</td>\n",
       "    </tr>\n",
       "    <tr>\n",
       "      <th>stalk-surface-below-ring</th>\n",
       "      <td>-0.298801</td>\n",
       "      <td>-0.032591</td>\n",
       "      <td>0.107965</td>\n",
       "      <td>-0.047710</td>\n",
       "      <td>0.458983</td>\n",
       "      <td>0.061820</td>\n",
       "      <td>-0.116177</td>\n",
       "      <td>-0.213775</td>\n",
       "      <td>0.010894</td>\n",
       "      <td>0.257224</td>\n",
       "      <td>...</td>\n",
       "      <td>0.437164</td>\n",
       "      <td>1.000000</td>\n",
       "      <td>0.106933</td>\n",
       "      <td>0.110656</td>\n",
       "      <td>-0.077284</td>\n",
       "      <td>0.040006</td>\n",
       "      <td>0.394644</td>\n",
       "      <td>0.130974</td>\n",
       "      <td>0.046797</td>\n",
       "      <td>-0.039628</td>\n",
       "    </tr>\n",
       "    <tr>\n",
       "      <th>stalk-color-above-ring</th>\n",
       "      <td>-0.154003</td>\n",
       "      <td>-0.031659</td>\n",
       "      <td>0.066050</td>\n",
       "      <td>0.002364</td>\n",
       "      <td>0.083538</td>\n",
       "      <td>0.174532</td>\n",
       "      <td>0.099299</td>\n",
       "      <td>0.274574</td>\n",
       "      <td>0.296548</td>\n",
       "      <td>-0.058299</td>\n",
       "      <td>...</td>\n",
       "      <td>0.132708</td>\n",
       "      <td>0.106933</td>\n",
       "      <td>1.000000</td>\n",
       "      <td>0.491510</td>\n",
       "      <td>0.067377</td>\n",
       "      <td>0.084917</td>\n",
       "      <td>-0.048878</td>\n",
       "      <td>0.271533</td>\n",
       "      <td>-0.240261</td>\n",
       "      <td>0.042561</td>\n",
       "    </tr>\n",
       "    <tr>\n",
       "      <th>stalk-color-below-ring</th>\n",
       "      <td>-0.146730</td>\n",
       "      <td>-0.030390</td>\n",
       "      <td>0.068885</td>\n",
       "      <td>0.008057</td>\n",
       "      <td>0.092874</td>\n",
       "      <td>0.169407</td>\n",
       "      <td>0.097160</td>\n",
       "      <td>0.253505</td>\n",
       "      <td>0.278708</td>\n",
       "      <td>-0.074781</td>\n",
       "      <td>...</td>\n",
       "      <td>0.142835</td>\n",
       "      <td>0.110656</td>\n",
       "      <td>0.491510</td>\n",
       "      <td>1.000000</td>\n",
       "      <td>0.065567</td>\n",
       "      <td>0.087580</td>\n",
       "      <td>-0.034284</td>\n",
       "      <td>0.254518</td>\n",
       "      <td>-0.242792</td>\n",
       "      <td>0.041594</td>\n",
       "    </tr>\n",
       "    <tr>\n",
       "      <th>veil-color</th>\n",
       "      <td>0.145142</td>\n",
       "      <td>0.072560</td>\n",
       "      <td>-0.016603</td>\n",
       "      <td>0.036130</td>\n",
       "      <td>0.119770</td>\n",
       "      <td>-0.057747</td>\n",
       "      <td>0.897518</td>\n",
       "      <td>0.073363</td>\n",
       "      <td>0.103809</td>\n",
       "      <td>-0.097583</td>\n",
       "      <td>...</td>\n",
       "      <td>-0.090591</td>\n",
       "      <td>-0.077284</td>\n",
       "      <td>0.067377</td>\n",
       "      <td>0.065567</td>\n",
       "      <td>1.000000</td>\n",
       "      <td>0.036380</td>\n",
       "      <td>-0.143673</td>\n",
       "      <td>-0.003600</td>\n",
       "      <td>0.124924</td>\n",
       "      <td>-0.040581</td>\n",
       "    </tr>\n",
       "    <tr>\n",
       "      <th>ring-number</th>\n",
       "      <td>-0.214366</td>\n",
       "      <td>-0.106534</td>\n",
       "      <td>-0.026147</td>\n",
       "      <td>-0.005822</td>\n",
       "      <td>0.056788</td>\n",
       "      <td>0.111905</td>\n",
       "      <td>0.093236</td>\n",
       "      <td>0.243014</td>\n",
       "      <td>-0.171362</td>\n",
       "      <td>0.096054</td>\n",
       "      <td>...</td>\n",
       "      <td>0.107904</td>\n",
       "      <td>0.040006</td>\n",
       "      <td>0.084917</td>\n",
       "      <td>0.087580</td>\n",
       "      <td>0.036380</td>\n",
       "      <td>1.000000</td>\n",
       "      <td>0.058312</td>\n",
       "      <td>0.338417</td>\n",
       "      <td>-0.242020</td>\n",
       "      <td>0.235835</td>\n",
       "    </tr>\n",
       "    <tr>\n",
       "      <th>ring-type</th>\n",
       "      <td>-0.411771</td>\n",
       "      <td>-0.025457</td>\n",
       "      <td>-0.106407</td>\n",
       "      <td>0.162513</td>\n",
       "      <td>0.692973</td>\n",
       "      <td>-0.281387</td>\n",
       "      <td>-0.146689</td>\n",
       "      <td>-0.195897</td>\n",
       "      <td>-0.460872</td>\n",
       "      <td>0.629398</td>\n",
       "      <td>...</td>\n",
       "      <td>0.390091</td>\n",
       "      <td>0.394644</td>\n",
       "      <td>-0.048878</td>\n",
       "      <td>-0.034284</td>\n",
       "      <td>-0.143673</td>\n",
       "      <td>0.058312</td>\n",
       "      <td>1.000000</td>\n",
       "      <td>-0.487048</td>\n",
       "      <td>0.211763</td>\n",
       "      <td>-0.212080</td>\n",
       "    </tr>\n",
       "    <tr>\n",
       "      <th>spore-print-color</th>\n",
       "      <td>0.171961</td>\n",
       "      <td>-0.073416</td>\n",
       "      <td>0.230364</td>\n",
       "      <td>-0.293523</td>\n",
       "      <td>-0.285008</td>\n",
       "      <td>0.469055</td>\n",
       "      <td>-0.029524</td>\n",
       "      <td>0.047323</td>\n",
       "      <td>0.622991</td>\n",
       "      <td>-0.416135</td>\n",
       "      <td>...</td>\n",
       "      <td>0.100764</td>\n",
       "      <td>0.130974</td>\n",
       "      <td>0.271533</td>\n",
       "      <td>0.254518</td>\n",
       "      <td>-0.003600</td>\n",
       "      <td>0.338417</td>\n",
       "      <td>-0.487048</td>\n",
       "      <td>1.000000</td>\n",
       "      <td>-0.126859</td>\n",
       "      <td>0.185954</td>\n",
       "    </tr>\n",
       "    <tr>\n",
       "      <th>population</th>\n",
       "      <td>0.298686</td>\n",
       "      <td>0.063413</td>\n",
       "      <td>0.021555</td>\n",
       "      <td>-0.144770</td>\n",
       "      <td>0.088137</td>\n",
       "      <td>-0.043623</td>\n",
       "      <td>0.165575</td>\n",
       "      <td>-0.529253</td>\n",
       "      <td>0.147682</td>\n",
       "      <td>-0.034090</td>\n",
       "      <td>...</td>\n",
       "      <td>0.079604</td>\n",
       "      <td>0.046797</td>\n",
       "      <td>-0.240261</td>\n",
       "      <td>-0.242792</td>\n",
       "      <td>0.124924</td>\n",
       "      <td>-0.242020</td>\n",
       "      <td>0.211763</td>\n",
       "      <td>-0.126859</td>\n",
       "      <td>1.000000</td>\n",
       "      <td>-0.174529</td>\n",
       "    </tr>\n",
       "    <tr>\n",
       "      <th>habitat</th>\n",
       "      <td>0.217179</td>\n",
       "      <td>-0.042221</td>\n",
       "      <td>0.163887</td>\n",
       "      <td>0.033925</td>\n",
       "      <td>-0.075095</td>\n",
       "      <td>-0.026610</td>\n",
       "      <td>-0.030304</td>\n",
       "      <td>-0.154680</td>\n",
       "      <td>0.161418</td>\n",
       "      <td>-0.202972</td>\n",
       "      <td>...</td>\n",
       "      <td>-0.058076</td>\n",
       "      <td>-0.039628</td>\n",
       "      <td>0.042561</td>\n",
       "      <td>0.041594</td>\n",
       "      <td>-0.040581</td>\n",
       "      <td>0.235835</td>\n",
       "      <td>-0.212080</td>\n",
       "      <td>0.185954</td>\n",
       "      <td>-0.174529</td>\n",
       "      <td>1.000000</td>\n",
       "    </tr>\n",
       "  </tbody>\n",
       "</table>\n",
       "<p>22 rows × 22 columns</p>\n",
       "</div>"
      ],
      "text/plain": [
       "                             class  cap-shape  cap-surface  cap-color  \\\n",
       "class                     1.000000   0.052951     0.178446  -0.031384   \n",
       "cap-shape                 0.052951   1.000000    -0.050454  -0.048203   \n",
       "cap-surface               0.178446  -0.050454     1.000000  -0.019402   \n",
       "cap-color                -0.031384  -0.048203    -0.019402   1.000000   \n",
       "bruises                  -0.501530  -0.035374     0.070228  -0.000764   \n",
       "odor                     -0.093552  -0.021935     0.045233  -0.387121   \n",
       "gill-attachment           0.129200   0.078865    -0.034180   0.041436   \n",
       "gill-spacing             -0.348387   0.013196    -0.282306   0.144259   \n",
       "gill-size                 0.540024   0.054050     0.208100  -0.169464   \n",
       "gill-color               -0.530566  -0.006039    -0.161017   0.084659   \n",
       "stalk-shape              -0.102019   0.063794    -0.014123  -0.456496   \n",
       "stalk-root               -0.379361   0.030191    -0.126245   0.321274   \n",
       "stalk-surface-above-ring -0.334593  -0.030417     0.089090  -0.060837   \n",
       "stalk-surface-below-ring -0.298801  -0.032591     0.107965  -0.047710   \n",
       "stalk-color-above-ring   -0.154003  -0.031659     0.066050   0.002364   \n",
       "stalk-color-below-ring   -0.146730  -0.030390     0.068885   0.008057   \n",
       "veil-color                0.145142   0.072560    -0.016603   0.036130   \n",
       "ring-number              -0.214366  -0.106534    -0.026147  -0.005822   \n",
       "ring-type                -0.411771  -0.025457    -0.106407   0.162513   \n",
       "spore-print-color         0.171961  -0.073416     0.230364  -0.293523   \n",
       "population                0.298686   0.063413     0.021555  -0.144770   \n",
       "habitat                   0.217179  -0.042221     0.163887   0.033925   \n",
       "\n",
       "                           bruises      odor  gill-attachment  gill-spacing  \\\n",
       "class                    -0.501530 -0.093552         0.129200     -0.348387   \n",
       "cap-shape                -0.035374 -0.021935         0.078865      0.013196   \n",
       "cap-surface               0.070228  0.045233        -0.034180     -0.282306   \n",
       "cap-color                -0.000764 -0.387121         0.041436      0.144259   \n",
       "bruises                   1.000000 -0.061825         0.137359     -0.299473   \n",
       "odor                     -0.061825  1.000000        -0.059590      0.063936   \n",
       "gill-attachment           0.137359 -0.059590         1.000000      0.071489   \n",
       "gill-spacing             -0.299473  0.063936         0.071489      1.000000   \n",
       "gill-size                -0.369596  0.310495         0.108984     -0.108333   \n",
       "gill-color                0.527120 -0.129213        -0.128567      0.100193   \n",
       "stalk-shape               0.099364  0.459766         0.186485      0.080895   \n",
       "stalk-root                0.244188 -0.205215         0.144063      0.350548   \n",
       "stalk-surface-above-ring  0.460824  0.118617        -0.088916     -0.212359   \n",
       "stalk-surface-below-ring  0.458983  0.061820        -0.116177     -0.213775   \n",
       "stalk-color-above-ring    0.083538  0.174532         0.099299      0.274574   \n",
       "stalk-color-below-ring    0.092874  0.169407         0.097160      0.253505   \n",
       "veil-color                0.119770 -0.057747         0.897518      0.073363   \n",
       "ring-number               0.056788  0.111905         0.093236      0.243014   \n",
       "ring-type                 0.692973 -0.281387        -0.146689     -0.195897   \n",
       "spore-print-color        -0.285008  0.469055        -0.029524      0.047323   \n",
       "population                0.088137 -0.043623         0.165575     -0.529253   \n",
       "habitat                  -0.075095 -0.026610        -0.030304     -0.154680   \n",
       "\n",
       "                          gill-size  gill-color  ...  \\\n",
       "class                      0.540024   -0.530566  ...   \n",
       "cap-shape                  0.054050   -0.006039  ...   \n",
       "cap-surface                0.208100   -0.161017  ...   \n",
       "cap-color                 -0.169464    0.084659  ...   \n",
       "bruises                   -0.369596    0.527120  ...   \n",
       "odor                       0.310495   -0.129213  ...   \n",
       "gill-attachment            0.108984   -0.128567  ...   \n",
       "gill-spacing              -0.108333    0.100193  ...   \n",
       "gill-size                  1.000000   -0.516736  ...   \n",
       "gill-color                -0.516736    1.000000  ...   \n",
       "stalk-shape                0.214576   -0.175699  ...   \n",
       "stalk-root                -0.344345    0.315080  ...   \n",
       "stalk-surface-above-ring   0.056310    0.224287  ...   \n",
       "stalk-surface-below-ring   0.010894    0.257224  ...   \n",
       "stalk-color-above-ring     0.296548   -0.058299  ...   \n",
       "stalk-color-below-ring     0.278708   -0.074781  ...   \n",
       "veil-color                 0.103809   -0.097583  ...   \n",
       "ring-number               -0.171362    0.096054  ...   \n",
       "ring-type                 -0.460872    0.629398  ...   \n",
       "spore-print-color          0.622991   -0.416135  ...   \n",
       "population                 0.147682   -0.034090  ...   \n",
       "habitat                    0.161418   -0.202972  ...   \n",
       "\n",
       "                          stalk-surface-above-ring  stalk-surface-below-ring  \\\n",
       "class                                    -0.334593                 -0.298801   \n",
       "cap-shape                                -0.030417                 -0.032591   \n",
       "cap-surface                               0.089090                  0.107965   \n",
       "cap-color                                -0.060837                 -0.047710   \n",
       "bruises                                   0.460824                  0.458983   \n",
       "odor                                      0.118617                  0.061820   \n",
       "gill-attachment                          -0.088916                 -0.116177   \n",
       "gill-spacing                             -0.212359                 -0.213775   \n",
       "gill-size                                 0.056310                  0.010894   \n",
       "gill-color                                0.224287                  0.257224   \n",
       "stalk-shape                               0.015193                 -0.034399   \n",
       "stalk-root                               -0.027065                  0.087454   \n",
       "stalk-surface-above-ring                  1.000000                  0.437164   \n",
       "stalk-surface-below-ring                  0.437164                  1.000000   \n",
       "stalk-color-above-ring                    0.132708                  0.106933   \n",
       "stalk-color-below-ring                    0.142835                  0.110656   \n",
       "veil-color                               -0.090591                 -0.077284   \n",
       "ring-number                               0.107904                  0.040006   \n",
       "ring-type                                 0.390091                  0.394644   \n",
       "spore-print-color                         0.100764                  0.130974   \n",
       "population                                0.079604                  0.046797   \n",
       "habitat                                  -0.058076                 -0.039628   \n",
       "\n",
       "                          stalk-color-above-ring  stalk-color-below-ring  \\\n",
       "class                                  -0.154003               -0.146730   \n",
       "cap-shape                              -0.031659               -0.030390   \n",
       "cap-surface                             0.066050                0.068885   \n",
       "cap-color                               0.002364                0.008057   \n",
       "bruises                                 0.083538                0.092874   \n",
       "odor                                    0.174532                0.169407   \n",
       "gill-attachment                         0.099299                0.097160   \n",
       "gill-spacing                            0.274574                0.253505   \n",
       "gill-size                               0.296548                0.278708   \n",
       "gill-color                             -0.058299               -0.074781   \n",
       "stalk-shape                             0.223439                0.235794   \n",
       "stalk-root                              0.157140                0.159805   \n",
       "stalk-surface-above-ring                0.132708                0.142835   \n",
       "stalk-surface-below-ring                0.106933                0.110656   \n",
       "stalk-color-above-ring                  1.000000                0.491510   \n",
       "stalk-color-below-ring                  0.491510                1.000000   \n",
       "veil-color                              0.067377                0.065567   \n",
       "ring-number                             0.084917                0.087580   \n",
       "ring-type                              -0.048878               -0.034284   \n",
       "spore-print-color                       0.271533                0.254518   \n",
       "population                             -0.240261               -0.242792   \n",
       "habitat                                 0.042561                0.041594   \n",
       "\n",
       "                          veil-color  ring-number  ring-type  \\\n",
       "class                       0.145142    -0.214366  -0.411771   \n",
       "cap-shape                   0.072560    -0.106534  -0.025457   \n",
       "cap-surface                -0.016603    -0.026147  -0.106407   \n",
       "cap-color                   0.036130    -0.005822   0.162513   \n",
       "bruises                     0.119770     0.056788   0.692973   \n",
       "odor                       -0.057747     0.111905  -0.281387   \n",
       "gill-attachment             0.897518     0.093236  -0.146689   \n",
       "gill-spacing                0.073363     0.243014  -0.195897   \n",
       "gill-size                   0.103809    -0.171362  -0.460872   \n",
       "gill-color                 -0.097583     0.096054   0.629398   \n",
       "stalk-shape                 0.162604    -0.293221  -0.291444   \n",
       "stalk-root                  0.156213    -0.247357   0.210155   \n",
       "stalk-surface-above-ring   -0.090591     0.107904   0.390091   \n",
       "stalk-surface-below-ring   -0.077284     0.040006   0.394644   \n",
       "stalk-color-above-ring      0.067377     0.084917  -0.048878   \n",
       "stalk-color-below-ring      0.065567     0.087580  -0.034284   \n",
       "veil-color                  1.000000     0.036380  -0.143673   \n",
       "ring-number                 0.036380     1.000000   0.058312   \n",
       "ring-type                  -0.143673     0.058312   1.000000   \n",
       "spore-print-color          -0.003600     0.338417  -0.487048   \n",
       "population                  0.124924    -0.242020   0.211763   \n",
       "habitat                    -0.040581     0.235835  -0.212080   \n",
       "\n",
       "                          spore-print-color  population   habitat  \n",
       "class                              0.171961    0.298686  0.217179  \n",
       "cap-shape                         -0.073416    0.063413 -0.042221  \n",
       "cap-surface                        0.230364    0.021555  0.163887  \n",
       "cap-color                         -0.293523   -0.144770  0.033925  \n",
       "bruises                           -0.285008    0.088137 -0.075095  \n",
       "odor                               0.469055   -0.043623 -0.026610  \n",
       "gill-attachment                   -0.029524    0.165575 -0.030304  \n",
       "gill-spacing                       0.047323   -0.529253 -0.154680  \n",
       "gill-size                          0.622991    0.147682  0.161418  \n",
       "gill-color                        -0.416135   -0.034090 -0.202972  \n",
       "stalk-shape                        0.258831    0.087383 -0.269216  \n",
       "stalk-root                        -0.536996   -0.306747 -0.007668  \n",
       "stalk-surface-above-ring           0.100764    0.079604 -0.058076  \n",
       "stalk-surface-below-ring           0.130974    0.046797 -0.039628  \n",
       "stalk-color-above-ring             0.271533   -0.240261  0.042561  \n",
       "stalk-color-below-ring             0.254518   -0.242792  0.041594  \n",
       "veil-color                        -0.003600    0.124924 -0.040581  \n",
       "ring-number                        0.338417   -0.242020  0.235835  \n",
       "ring-type                         -0.487048    0.211763 -0.212080  \n",
       "spore-print-color                  1.000000   -0.126859  0.185954  \n",
       "population                        -0.126859    1.000000 -0.174529  \n",
       "habitat                            0.185954   -0.174529  1.000000  \n",
       "\n",
       "[22 rows x 22 columns]"
      ]
     },
     "execution_count": 16,
     "metadata": {},
     "output_type": "execute_result"
    }
   ],
   "source": [
    "data_corr"
   ]
  },
  {
   "cell_type": "code",
   "execution_count": 17,
   "id": "handed-bahrain",
   "metadata": {},
   "outputs": [
    {
     "data": {
      "text/plain": [
       "(array([ 0.5,  1.5,  2.5,  3.5,  4.5,  5.5,  6.5,  7.5,  8.5,  9.5, 10.5,\n",
       "        11.5, 12.5, 13.5, 14.5, 15.5, 16.5, 17.5, 18.5, 19.5, 20.5, 21.5]),\n",
       " [Text(0, 0.5, 'class'),\n",
       "  Text(0, 1.5, 'cap-shape'),\n",
       "  Text(0, 2.5, 'cap-surface'),\n",
       "  Text(0, 3.5, 'cap-color'),\n",
       "  Text(0, 4.5, 'bruises'),\n",
       "  Text(0, 5.5, 'odor'),\n",
       "  Text(0, 6.5, 'gill-attachment'),\n",
       "  Text(0, 7.5, 'gill-spacing'),\n",
       "  Text(0, 8.5, 'gill-size'),\n",
       "  Text(0, 9.5, 'gill-color'),\n",
       "  Text(0, 10.5, 'stalk-shape'),\n",
       "  Text(0, 11.5, 'stalk-root'),\n",
       "  Text(0, 12.5, 'stalk-surface-above-ring'),\n",
       "  Text(0, 13.5, 'stalk-surface-below-ring'),\n",
       "  Text(0, 14.5, 'stalk-color-above-ring'),\n",
       "  Text(0, 15.5, 'stalk-color-below-ring'),\n",
       "  Text(0, 16.5, 'veil-color'),\n",
       "  Text(0, 17.5, 'ring-number'),\n",
       "  Text(0, 18.5, 'ring-type'),\n",
       "  Text(0, 19.5, 'spore-print-color'),\n",
       "  Text(0, 20.5, 'population'),\n",
       "  Text(0, 21.5, 'habitat')])"
      ]
     },
     "execution_count": 17,
     "metadata": {},
     "output_type": "execute_result"
    },
    {
     "data": {
      "image/png": "[encoded data removed]",
      "text/plain": [
       "<Figure size 1080x1080 with 2 Axes>"
      ]
     },
     "metadata": {
      "needs_background": "light"
     },
     "output_type": "display_data"
    }
   ],
   "source": [
    "mask = np.zeros_like(data_corr, dtype=np.bool)\n",
    "mask[np.triu_indices_from(mask)] = True\n",
    "cmap = sns.diverging_palette(220, 10, as_cmap=True)\n",
    "plt.figure(figsize=(15,15))\n",
    "sns.heatmap(data_corr, vmax = 1, vmin=-1, cmap= cmap, center = 0, square = True, annot = True, mask= mask)\n",
    "plt.yticks(rotation = 'horizontal')\n"
   ]
  },
  {
   "cell_type": "code",
   "execution_count": 18,
   "id": "pretty-moisture",
   "metadata": {},
   "outputs": [
    {
     "data": {
      "text/plain": [
       "array([1, 0, 0, ..., 0, 1, 0])"
      ]
     },
     "execution_count": 18,
     "metadata": {},
     "output_type": "execute_result"
    }
   ],
   "source": [
    "target = np.array(data_enc['class'])\n",
    "target"
   ]
  },
  {
   "cell_type": "code",
   "execution_count": 19,
   "id": "short-addiction",
   "metadata": {},
   "outputs": [
    {
     "data": {
      "text/plain": [
       "array([[1.        , 0.66666667, 0.44444444, ..., 0.25      , 0.6       ,\n",
       "        0.83333333],\n",
       "       [1.        , 0.66666667, 1.        , ..., 0.375     , 0.4       ,\n",
       "        0.16666667],\n",
       "       [0.        , 0.66666667, 0.88888889, ..., 0.375     , 0.4       ,\n",
       "        0.5       ],\n",
       "       ...,\n",
       "       [0.4       , 0.66666667, 0.44444444, ..., 0.        , 0.2       ,\n",
       "        0.33333333],\n",
       "       [0.6       , 1.        , 0.44444444, ..., 0.875     , 0.8       ,\n",
       "        0.33333333],\n",
       "       [1.        , 0.66666667, 0.44444444, ..., 0.5       , 0.2       ,\n",
       "        0.33333333]])"
      ]
     },
     "execution_count": 19,
     "metadata": {},
     "output_type": "execute_result"
    }
   ],
   "source": [
    "data_d = data_enc.drop(['class'], axis=1)\n",
    "data_d = np.array(data_d)\n",
    "data_d = MinMaxScaler().fit_transform(data_d)\n",
    "data_d"
   ]
  },
  {
   "cell_type": "code",
   "execution_count": 20,
   "id": "vital-cannon",
   "metadata": {},
   "outputs": [],
   "source": [
    "cm = {\n",
    "    \"logit\": LogisticRegression(solver='liblinear'),\n",
    "    \"decision_tree\": DecisionTreeClassifier(),\n",
    "    \"random_forest\": RandomForestClassifier(),\n",
    "    \"xgboost\": XGBClassifier(),\n",
    "    \"bayes\": GaussianNB(),\n",
    "    \"svm\": SVC(),\n",
    "    \"knn\": KNeighborsClassifier()\n",
    "}"
   ]
  },
  {
   "cell_type": "code",
   "execution_count": 21,
   "id": "binary-smith",
   "metadata": {},
   "outputs": [],
   "source": [
    "def Modeluj(model_list, data, target):\n",
    "    \n",
    "    model_name = []\n",
    "    model_score1 = []\n",
    "    model_score2 = []\n",
    "    model_score3 = []\n",
    "    \n",
    "    X_train, X_val, y_train, y_val = train_test_split(\n",
    "    data,\n",
    "    target,\n",
    "    test_size=0.2,\n",
    "    random_state=123\n",
    "    )\n",
    "    \n",
    "    \n",
    "    for key, value in model_list.items():\n",
    "        model = value\n",
    "        model.fit(X_train, y_train)\n",
    "        score1 = model.score(X_train, y_train)\n",
    "        score2 = model.score(X_val, y_val)\n",
    "        \n",
    "        model_name.append(key)\n",
    "        model_score1.append(score1)\n",
    "        model_score2.append(score2)\n",
    "\n",
    "    for i in range(7):\n",
    "        print('Model: {:13s} train score: {:2.15f}, test score: {:2.15f}'.format(model_name[i], model_score1[i], model_score2[i]))\n",
    "        \n",
    "    plt.figure(figsize=(11,6))\n",
    "    plt.bar(model_name, model_score1)\n",
    "    plt.title('Model score dla treningu')\n",
    "    plt.show()\n",
    "    plt.figure(figsize=(11,6))\n",
    "    plt.bar(model_name, model_score2)\n",
    "    plt.title('Model score dla testu')\n",
    "    plt.show()\n",
    "    "
   ]
  },
  {
   "cell_type": "code",
   "execution_count": 148,
   "id": "favorite-scout",
   "metadata": {},
   "outputs": [
    {
     "name": "stdout",
     "output_type": "stream",
     "text": [
      "Model: logit         train score: 0.949530697030312, test score: 0.947076923076923\n",
      "Model: decision_tree train score: 1.000000000000000, test score: 1.000000000000000\n",
      "Model: random_forest train score: 1.000000000000000, test score: 1.000000000000000\n",
      "Model: xgboost       train score: 1.000000000000000, test score: 1.000000000000000\n",
      "Model: bayes         train score: 0.922757347284198, test score: 0.906461538461538\n",
      "Model: svm           train score: 0.999230650869364, test score: 0.997538461538461\n",
      "Model: knn           train score: 1.000000000000000, test score: 1.000000000000000\n"
     ]
    },
    {
     "data": {
      "image/png": "[encoded data removed]",
      "text/plain": [
       "<Figure size 792x432 with 1 Axes>"
      ]
     },
     "metadata": {
      "needs_background": "light"
     },
     "output_type": "display_data"
    },
    {
     "data": {
      "image/png": "[encoded data removed]",
      "text/plain": [
       "<Figure size 792x432 with 1 Axes>"
      ]
     },
     "metadata": {
      "needs_background": "light"
     },
     "output_type": "display_data"
    }
   ],
   "source": [
    "Modeluj(cm, data_d, target)"
   ]
  },
  {
   "cell_type": "markdown",
   "id": "filled-variable",
   "metadata": {},
   "source": [
    "## Analiza modeli, dla których nie uzyskano 1.0"
   ]
  },
  {
   "cell_type": "code",
   "execution_count": 22,
   "id": "corresponding-cancellation",
   "metadata": {},
   "outputs": [],
   "source": [
    "X_train, X_val, y_train, y_val = train_test_split(\n",
    "    data_d,\n",
    "    target,\n",
    "    test_size=0.2,\n",
    "    random_state=123\n",
    "    )"
   ]
  },
  {
   "cell_type": "markdown",
   "id": "unsigned-original",
   "metadata": {},
   "source": [
    "### Regresja logistyczna"
   ]
  },
  {
   "cell_type": "code",
   "execution_count": 23,
   "id": "seeing-decade",
   "metadata": {},
   "outputs": [],
   "source": [
    "grid_model = LogisticRegression(max_iter=10000)\n",
    "grid_param = {'C': [0.001, 0.01, 0.1, 1, 10, 100, 1000, 10000],  'penalty':[\"l1\",\"l2\"], 'solver': ['liblinear']}"
   ]
  },
  {
   "cell_type": "code",
   "execution_count": 24,
   "id": "attractive-proposal",
   "metadata": {},
   "outputs": [],
   "source": [
    "grid_log = GridSearchCV(grid_model, grid_param, verbose=5, refit=True, cv=5, n_jobs=-1)"
   ]
  },
  {
   "cell_type": "code",
   "execution_count": 25,
   "id": "alert-closure",
   "metadata": {
    "scrolled": true
   },
   "outputs": [
    {
     "name": "stdout",
     "output_type": "stream",
     "text": [
      "Fitting 5 folds for each of 16 candidates, totalling 80 fits\n"
     ]
    },
    {
     "name": "stderr",
     "output_type": "stream",
     "text": [
      "[Parallel(n_jobs=-1)]: Using backend LokyBackend with 4 concurrent workers.\n",
      "[Parallel(n_jobs=-1)]: Done  10 tasks      | elapsed:    3.4s\n",
      "[Parallel(n_jobs=-1)]: Done  64 tasks      | elapsed:   32.5s\n",
      "[Parallel(n_jobs=-1)]: Done  80 out of  80 | elapsed:   48.0s finished\n"
     ]
    }
   ],
   "source": [
    "grid_log_result = grid_log.fit(X_train, y_train)"
   ]
  },
  {
   "cell_type": "code",
   "execution_count": 26,
   "id": "printable-brighton",
   "metadata": {},
   "outputs": [
    {
     "data": {
      "text/plain": [
       "LogisticRegression(C=10000, max_iter=10000, solver='liblinear')"
      ]
     },
     "execution_count": 26,
     "metadata": {},
     "output_type": "execute_result"
    }
   ],
   "source": [
    "grid_log_result.best_estimator_"
   ]
  },
  {
   "cell_type": "code",
   "execution_count": 27,
   "id": "hydraulic-falls",
   "metadata": {},
   "outputs": [
    {
     "data": {
      "text/plain": [
       "{'C': 10000, 'penalty': 'l2', 'solver': 'liblinear'}"
      ]
     },
     "execution_count": 27,
     "metadata": {},
     "output_type": "execute_result"
    }
   ],
   "source": [
    "grid_log_result.best_params_"
   ]
  },
  {
   "cell_type": "code",
   "execution_count": 28,
   "id": "indoor-aurora",
   "metadata": {},
   "outputs": [
    {
     "data": {
      "text/plain": [
       "0.9673789305382838"
      ]
     },
     "execution_count": 28,
     "metadata": {},
     "output_type": "execute_result"
    }
   ],
   "source": [
    "grid_log_result.best_score_"
   ]
  },
  {
   "cell_type": "code",
   "execution_count": 29,
   "id": "several-defense",
   "metadata": {},
   "outputs": [],
   "source": [
    "y_val_pred = grid_log_result.predict(X_val)"
   ]
  },
  {
   "cell_type": "code",
   "execution_count": 30,
   "id": "forward-feeling",
   "metadata": {},
   "outputs": [
    {
     "data": {
      "text/plain": [
       "0.9649230769230769"
      ]
     },
     "execution_count": 30,
     "metadata": {},
     "output_type": "execute_result"
    }
   ],
   "source": [
    "accuracy_score(y_val, y_val_pred)"
   ]
  },
  {
   "cell_type": "code",
   "execution_count": 31,
   "id": "certain-anger",
   "metadata": {},
   "outputs": [
    {
     "data": {
      "text/plain": [
       "array([[837,  26],\n",
       "       [ 31, 731]], dtype=int64)"
      ]
     },
     "execution_count": 31,
     "metadata": {},
     "output_type": "execute_result"
    }
   ],
   "source": [
    "cm_val = confusion_matrix(\n",
    "    y_true=y_val,\n",
    "    y_pred=y_val_pred\n",
    ")\n",
    "cm_val"
   ]
  },
  {
   "cell_type": "code",
   "execution_count": 32,
   "id": "million-supplement",
   "metadata": {},
   "outputs": [
    {
     "data": {
      "image/png": "[encoded data removed]",
      "text/plain": [
       "<Figure size 432x288 with 1 Axes>"
      ]
     },
     "metadata": {
      "needs_background": "light"
     },
     "output_type": "display_data"
    }
   ],
   "source": [
    "plot_confusion_matrix(confusion_matrix(y_val, y_val_pred), show_normed=True)\n",
    "plt.show()"
   ]
  },
  {
   "cell_type": "code",
   "execution_count": 33,
   "id": "editorial-tolerance",
   "metadata": {},
   "outputs": [
    {
     "name": "stdout",
     "output_type": "stream",
     "text": [
      "              precision    recall  f1-score   support\n",
      "\n",
      "           0       0.96      0.97      0.97       863\n",
      "           1       0.97      0.96      0.96       762\n",
      "\n",
      "    accuracy                           0.96      1625\n",
      "   macro avg       0.96      0.96      0.96      1625\n",
      "weighted avg       0.96      0.96      0.96      1625\n",
      "\n"
     ]
    }
   ],
   "source": [
    "print(classification_report(y_val, y_val_pred))"
   ]
  },
  {
   "cell_type": "markdown",
   "id": "bridal-ordinary",
   "metadata": {},
   "source": [
    "### Bayes"
   ]
  },
  {
   "cell_type": "code",
   "execution_count": 34,
   "id": "olympic-narrow",
   "metadata": {},
   "outputs": [],
   "source": [
    "model_bayes = GaussianNB()"
   ]
  },
  {
   "cell_type": "code",
   "execution_count": 35,
   "id": "amber-candidate",
   "metadata": {},
   "outputs": [
    {
     "data": {
      "text/plain": [
       "GaussianNB()"
      ]
     },
     "execution_count": 35,
     "metadata": {},
     "output_type": "execute_result"
    }
   ],
   "source": [
    "model_bayes.fit(X_train, y_train)"
   ]
  },
  {
   "cell_type": "code",
   "execution_count": 37,
   "id": "innocent-number",
   "metadata": {},
   "outputs": [],
   "source": [
    "y_val_pred = model_bayes.predict(X_val)"
   ]
  },
  {
   "cell_type": "code",
   "execution_count": 38,
   "id": "weekly-glasgow",
   "metadata": {},
   "outputs": [
    {
     "data": {
      "text/plain": [
       "array([[786,  77],\n",
       "       [ 75, 687]], dtype=int64)"
      ]
     },
     "execution_count": 38,
     "metadata": {},
     "output_type": "execute_result"
    }
   ],
   "source": [
    "cm_val = confusion_matrix(\n",
    "    y_true=y_val,\n",
    "    y_pred=y_val_pred\n",
    ")\n",
    "cm_val"
   ]
  },
  {
   "cell_type": "code",
   "execution_count": 39,
   "id": "harmful-skiing",
   "metadata": {},
   "outputs": [
    {
     "data": {
      "image/png": "[encoded data removed]",
      "text/plain": [
       "<Figure size 432x288 with 1 Axes>"
      ]
     },
     "metadata": {
      "needs_background": "light"
     },
     "output_type": "display_data"
    }
   ],
   "source": [
    "plot_confusion_matrix(confusion_matrix(y_val, y_val_pred), show_normed=True)\n",
    "plt.show()"
   ]
  },
  {
   "cell_type": "code",
   "execution_count": 40,
   "id": "verified-corporation",
   "metadata": {},
   "outputs": [
    {
     "name": "stdout",
     "output_type": "stream",
     "text": [
      "              precision    recall  f1-score   support\n",
      "\n",
      "           0       0.91      0.91      0.91       863\n",
      "           1       0.90      0.90      0.90       762\n",
      "\n",
      "    accuracy                           0.91      1625\n",
      "   macro avg       0.91      0.91      0.91      1625\n",
      "weighted avg       0.91      0.91      0.91      1625\n",
      "\n"
     ]
    }
   ],
   "source": [
    "print(classification_report(y_val, y_val_pred))"
   ]
  },
  {
   "cell_type": "markdown",
   "id": "nutritional-brick",
   "metadata": {},
   "source": [
    "### SVM"
   ]
  },
  {
   "cell_type": "code",
   "execution_count": 41,
   "id": "incorporate-rotation",
   "metadata": {},
   "outputs": [],
   "source": [
    "model_svc = SVC()"
   ]
  },
  {
   "cell_type": "code",
   "execution_count": 42,
   "id": "dense-moore",
   "metadata": {},
   "outputs": [],
   "source": [
    "grid_param = {'C': [0.1, 1, 10, 100, 1000], \n",
    "              'gamma': [1, 0.1, 0.01, 0.001, 0.0001],\n",
    "              'kernel': ['rbf', 'poly', 'sigmoid']} "
   ]
  },
  {
   "cell_type": "code",
   "execution_count": 43,
   "id": "continuing-parent",
   "metadata": {},
   "outputs": [],
   "source": [
    "grid_svc = GridSearchCV(model_svc, grid_param, verbose=5, refit=True, cv=5, n_jobs=-1)"
   ]
  },
  {
   "cell_type": "code",
   "execution_count": 44,
   "id": "ultimate-illustration",
   "metadata": {},
   "outputs": [
    {
     "name": "stdout",
     "output_type": "stream",
     "text": [
      "Fitting 5 folds for each of 75 candidates, totalling 375 fits\n"
     ]
    },
    {
     "name": "stderr",
     "output_type": "stream",
     "text": [
      "[Parallel(n_jobs=-1)]: Using backend LokyBackend with 4 concurrent workers.\n",
      "[Parallel(n_jobs=-1)]: Done  10 tasks      | elapsed:    1.9s\n",
      "[Parallel(n_jobs=-1)]: Done  64 tasks      | elapsed:   28.2s\n",
      "[Parallel(n_jobs=-1)]: Done 154 tasks      | elapsed:   59.9s\n",
      "[Parallel(n_jobs=-1)]: Done 280 tasks      | elapsed:  1.5min\n",
      "[Parallel(n_jobs=-1)]: Done 375 out of 375 | elapsed:  1.9min finished\n"
     ]
    }
   ],
   "source": [
    "grid_svc_result = grid_svc.fit(X_train, y_train)"
   ]
  },
  {
   "cell_type": "code",
   "execution_count": 45,
   "id": "related-mileage",
   "metadata": {},
   "outputs": [
    {
     "data": {
      "text/plain": [
       "SVC(C=0.1, gamma=1, kernel='poly')"
      ]
     },
     "execution_count": 45,
     "metadata": {},
     "output_type": "execute_result"
    }
   ],
   "source": [
    "grid_svc_result.best_estimator_"
   ]
  },
  {
   "cell_type": "code",
   "execution_count": 46,
   "id": "dangerous-property",
   "metadata": {},
   "outputs": [
    {
     "data": {
      "text/plain": [
       "{'C': 0.1, 'gamma': 1, 'kernel': 'poly'}"
      ]
     },
     "execution_count": 46,
     "metadata": {},
     "output_type": "execute_result"
    }
   ],
   "source": [
    "grid_svc_result.best_params_"
   ]
  },
  {
   "cell_type": "code",
   "execution_count": 47,
   "id": "revised-baseball",
   "metadata": {},
   "outputs": [
    {
     "data": {
      "text/plain": [
       "1.0"
      ]
     },
     "execution_count": 47,
     "metadata": {},
     "output_type": "execute_result"
    }
   ],
   "source": [
    "grid_svc_result.best_score_"
   ]
  },
  {
   "cell_type": "code",
   "execution_count": 48,
   "id": "electric-typing",
   "metadata": {},
   "outputs": [],
   "source": [
    "y_val_pred = grid_svc_result.predict(X_val)"
   ]
  },
  {
   "cell_type": "code",
   "execution_count": 49,
   "id": "changed-carry",
   "metadata": {},
   "outputs": [
    {
     "data": {
      "text/plain": [
       "1.0"
      ]
     },
     "execution_count": 49,
     "metadata": {},
     "output_type": "execute_result"
    }
   ],
   "source": [
    "accuracy_score(y_val, y_val_pred)"
   ]
  },
  {
   "cell_type": "code",
   "execution_count": 50,
   "id": "formal-observation",
   "metadata": {},
   "outputs": [
    {
     "data": {
      "text/plain": [
       "array([[863,   0],\n",
       "       [  0, 762]], dtype=int64)"
      ]
     },
     "execution_count": 50,
     "metadata": {},
     "output_type": "execute_result"
    }
   ],
   "source": [
    "cm_val = confusion_matrix(\n",
    "    y_true=y_val,\n",
    "    y_pred=y_val_pred\n",
    ")\n",
    "cm_val"
   ]
  },
  {
   "cell_type": "code",
   "execution_count": 52,
   "id": "caroline-small",
   "metadata": {},
   "outputs": [
    {
     "data": {
      "image/png": "[encoded data removed]",
      "text/plain": [
       "<Figure size 432x288 with 1 Axes>"
      ]
     },
     "metadata": {
      "needs_background": "light"
     },
     "output_type": "display_data"
    }
   ],
   "source": [
    "plot_confusion_matrix(confusion_matrix(y_val, y_val_pred), show_normed=True)\n",
    "plt.show()"
   ]
  },
  {
   "cell_type": "code",
   "execution_count": 53,
   "id": "welsh-operations",
   "metadata": {},
   "outputs": [
    {
     "name": "stdout",
     "output_type": "stream",
     "text": [
      "              precision    recall  f1-score   support\n",
      "\n",
      "           0       1.00      1.00      1.00       863\n",
      "           1       1.00      1.00      1.00       762\n",
      "\n",
      "    accuracy                           1.00      1625\n",
      "   macro avg       1.00      1.00      1.00      1625\n",
      "weighted avg       1.00      1.00      1.00      1625\n",
      "\n"
     ]
    }
   ],
   "source": [
    "print(classification_report(y_val, y_val_pred))"
   ]
  },
  {
   "cell_type": "code",
   "execution_count": 60,
   "id": "fatty-michael",
   "metadata": {},
   "outputs": [
    {
     "name": "stdout",
     "output_type": "stream",
     "text": [
      "0    863\n",
      "1    762\n",
      "dtype: int64\n"
     ]
    }
   ],
   "source": [
    "print(pd.value_counts(y_val))"
   ]
  },
  {
   "cell_type": "markdown",
   "id": "worst-workshop",
   "metadata": {},
   "source": [
    "### Zmniejszenie liczby cech do tych, dla których korelacja jest < -0.2 lub > 0.2"
   ]
  },
  {
   "cell_type": "code",
   "execution_count": 61,
   "id": "waiting-oasis",
   "metadata": {},
   "outputs": [],
   "source": [
    "data_corr2 = data_corr.loc[(data_corr['class'] > 0.2) | (data_corr['class'] < -0.2)]"
   ]
  },
  {
   "cell_type": "code",
   "execution_count": 66,
   "id": "initial-discovery",
   "metadata": {},
   "outputs": [],
   "source": [
    "data_corr2_columns = data_corr2.index"
   ]
  },
  {
   "cell_type": "code",
   "execution_count": 67,
   "id": "velvet-struggle",
   "metadata": {},
   "outputs": [
    {
     "data": {
      "text/plain": [
       "Index(['class', 'bruises', 'gill-spacing', 'gill-size', 'gill-color',\n",
       "       'stalk-root', 'stalk-surface-above-ring', 'stalk-surface-below-ring',\n",
       "       'ring-number', 'ring-type', 'population', 'habitat'],\n",
       "      dtype='object')"
      ]
     },
     "execution_count": 67,
     "metadata": {},
     "output_type": "execute_result"
    }
   ],
   "source": [
    "data_corr2_columns"
   ]
  },
  {
   "cell_type": "code",
   "execution_count": 73,
   "id": "directed-bride",
   "metadata": {},
   "outputs": [
    {
     "data": {
      "text/plain": [
       "array([[1.        , 0.        , 1.        , ..., 1.        , 0.6       ,\n",
       "        0.83333333],\n",
       "       [1.        , 0.        , 0.        , ..., 1.        , 0.4       ,\n",
       "        0.16666667],\n",
       "       [1.        , 0.        , 0.        , ..., 1.        , 0.4       ,\n",
       "        0.5       ],\n",
       "       ...,\n",
       "       [0.        , 0.        , 0.        , ..., 1.        , 0.2       ,\n",
       "        0.33333333],\n",
       "       [0.        , 0.        , 1.        , ..., 0.        , 0.8       ,\n",
       "        0.33333333],\n",
       "       [0.        , 0.        , 0.        , ..., 1.        , 0.2       ,\n",
       "        0.33333333]])"
      ]
     },
     "execution_count": 73,
     "metadata": {},
     "output_type": "execute_result"
    }
   ],
   "source": [
    "data_e = data_enc[data_corr2_columns]\n",
    "data_e\n",
    "data_e = data_e.drop(['class'], axis=1)\n",
    "data_e = np.array(data_e)\n",
    "data_e = MinMaxScaler().fit_transform(data_e)\n",
    "data_e"
   ]
  },
  {
   "cell_type": "code",
   "execution_count": 74,
   "id": "acquired-cemetery",
   "metadata": {},
   "outputs": [
    {
     "name": "stdout",
     "output_type": "stream",
     "text": [
      "Model: logit         train score: 0.937836590244653, test score: 0.932307692307692\n",
      "Model: decision_tree train score: 1.000000000000000, test score: 1.000000000000000\n",
      "Model: random_forest train score: 1.000000000000000, test score: 1.000000000000000\n",
      "Model: xgboost       train score: 1.000000000000000, test score: 1.000000000000000\n",
      "Model: bayes         train score: 0.908909062932759, test score: 0.905230769230769\n",
      "Model: svm           train score: 0.991537159563010, test score: 0.992000000000000\n",
      "Model: knn           train score: 1.000000000000000, test score: 1.000000000000000\n"
     ]
    },
    {
     "data": {
      "image/png": "[encoded data removed]",
      "text/plain": [
       "<Figure size 792x432 with 1 Axes>"
      ]
     },
     "metadata": {
      "needs_background": "light"
     },
     "output_type": "display_data"
    },
    {
     "data": {
      "image/png": "[encoded data removed]",
      "text/plain": [
       "<Figure size 792x432 with 1 Axes>"
      ]
     },
     "metadata": {
      "needs_background": "light"
     },
     "output_type": "display_data"
    }
   ],
   "source": [
    "Modeluj(cm, data_e, target)"
   ]
  },
  {
   "cell_type": "code",
   "execution_count": null,
   "id": "caroline-cuisine",
   "metadata": {},
   "outputs": [],
   "source": []
  }
 ],
 "metadata": {
  "kernelspec": {
   "display_name": "Python 3",
   "language": "python",
   "name": "python3"
  },
  "language_info": {
   "codemirror_mode": {
    "name": "ipython",
    "version": 3
   },
   "file_extension": ".py",
   "mimetype": "text/x-python",
   "name": "python",
   "nbconvert_exporter": "python",
   "pygments_lexer": "ipython3",
   "version": "3.9.2"
  }
 },
 "nbformat": 4,
 "nbformat_minor": 5
}
